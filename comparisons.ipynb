{
 "cells": [
  {
   "cell_type": "markdown",
   "metadata": {},
   "source": [
    "# Corpus comparisons\n",
    "Evaluating influence of Hawthorne's presence on the totality of the corpus."
   ]
  },
  {
   "cell_type": "markdown",
   "metadata": {},
   "source": [
    "## Mean sentence length\n",
    "This exemplifies how similar Hawthorne is to the rest of the corpus, as well as his relatively small quantitative impact on it."
   ]
  },
  {
   "cell_type": "code",
   "execution_count": 548,
   "metadata": {},
   "outputs": [],
   "source": [
    "import nltk\n",
    "import random\n",
    "import statistics\n",
    "import re\n",
    "import os\n",
    "import scipy"
   ]
  },
  {
   "cell_type": "markdown",
   "metadata": {},
   "source": [
    "### Hawthorne's sentences\n",
    "For this test, I use the Library of America Hawthorne, as it is better transcribed than Gale."
   ]
  },
  {
   "cell_type": "code",
   "execution_count": 417,
   "metadata": {},
   "outputs": [],
   "source": [
    "nh_loa = '/Users/e/code/hawthorne/local/loa_nh/loa_hawthorne_all.txt'"
   ]
  },
  {
   "cell_type": "code",
   "execution_count": 164,
   "metadata": {},
   "outputs": [],
   "source": [
    "def get_sent_lens(file):\n",
    "    with open(file) as f:\n",
    "        text = f.read()\n",
    "        sents = nltk.tokenize.sent_tokenize(text)\n",
    "        \n",
    "    sent_lens = []\n",
    "\n",
    "    for sent in sents:\n",
    "        n_toks = len([x for x in re.split('\\s+', sent) if x])\n",
    "        sent_lens.append(n_toks)\n",
    "    \n",
    "    return sent_lens"
   ]
  },
  {
   "cell_type": "code",
   "execution_count": 165,
   "metadata": {},
   "outputs": [],
   "source": [
    "nh_sents = get_sent_lens(nh_loa)"
   ]
  },
  {
   "cell_type": "code",
   "execution_count": 166,
   "metadata": {},
   "outputs": [
    {
     "data": {
      "text/plain": [
       "23.08811897217661"
      ]
     },
     "execution_count": 166,
     "metadata": {},
     "output_type": "execute_result"
    }
   ],
   "source": [
    "statistics.mean(nh_sents)"
   ]
  },
  {
   "cell_type": "code",
   "execution_count": 167,
   "metadata": {},
   "outputs": [
    {
     "data": {
      "text/plain": [
       "[10.0, 20.0, 34.0]"
      ]
     },
     "execution_count": 167,
     "metadata": {},
     "output_type": "execute_result"
    }
   ],
   "source": [
    "statistics.quantiles(nh_sents)"
   ]
  },
  {
   "cell_type": "markdown",
   "metadata": {},
   "source": [
    "# Hawthorne's peers' sentences\n",
    "Comparing Hawthorne's sentence lengths against those of his contemporaries:"
   ]
  },
  {
   "cell_type": "code",
   "execution_count": 65,
   "metadata": {},
   "outputs": [],
   "source": [
    "comparison = '/Users/e/code/hawthorne/local/corpus_no_nh'"
   ]
  },
  {
   "cell_type": "code",
   "execution_count": 69,
   "metadata": {},
   "outputs": [],
   "source": [
    "files = [os.path.join(comparison, x) for x in os.listdir(comparison) if x.endswith('.txt')]"
   ]
  },
  {
   "cell_type": "code",
   "execution_count": 79,
   "metadata": {},
   "outputs": [],
   "source": [
    "random.shuffle(files) # randomize sample\n",
    "sample_size = round(len(files) * 0.1) # get n for 10% sample\n",
    "sample = files[:sample_size]"
   ]
  },
  {
   "cell_type": "code",
   "execution_count": 81,
   "metadata": {},
   "outputs": [
    {
     "name": "stdout",
     "output_type": "stream",
     "text": [
      "275 of 3332"
     ]
    }
   ],
   "source": [
    "sent_lens = []\n",
    "\n",
    "for i, file in enumerate(sample):\n",
    "    sent_lens.extend(get_sent_lens(file))\n",
    "    \n",
    "    if i % 25 == 0:\n",
    "        print('\\r{} of {}'.format(i, len(sample)), end = '')"
   ]
  },
  {
   "cell_type": "code",
   "execution_count": 82,
   "metadata": {},
   "outputs": [
    {
     "data": {
      "text/plain": [
       "26.374018741025175"
      ]
     },
     "execution_count": 82,
     "metadata": {},
     "output_type": "execute_result"
    }
   ],
   "source": [
    "statistics.mean(sent_lens)"
   ]
  },
  {
   "cell_type": "code",
   "execution_count": 83,
   "metadata": {},
   "outputs": [
    {
     "data": {
      "text/plain": [
       "[11.0, 21.0, 35.0]"
      ]
     },
     "execution_count": 83,
     "metadata": {},
     "output_type": "execute_result"
    }
   ],
   "source": [
    "statistics.quantiles(sent_lens)"
   ]
  },
  {
   "cell_type": "markdown",
   "metadata": {},
   "source": [
    "# Word Vectors\n",
    "I begin by using the [hyperhyper](https://github.com/jfilter/hyperhyper) implementation of the SVD PPMI method of creating word vectors, first of Hawthorne's works."
   ]
  },
  {
   "cell_type": "code",
   "execution_count": 10,
   "metadata": {},
   "outputs": [],
   "source": [
    "import hyperhyper as hy"
   ]
  },
  {
   "cell_type": "markdown",
   "metadata": {},
   "source": [
    "## Hawthorne"
   ]
  },
  {
   "cell_type": "code",
   "execution_count": 11,
   "metadata": {},
   "outputs": [],
   "source": [
    "nh_corpus = '/Users/e/code/hawthorne/local/gale_nh'"
   ]
  },
  {
   "cell_type": "code",
   "execution_count": 131,
   "metadata": {},
   "outputs": [
    {
     "name": "stderr",
     "output_type": "stream",
     "text": [
      "build up vocab: 100%|██████████| 23/23 [00:03<00:00,  7.54it/s]\n",
      "texts to ids: 100%|██████████| 23/23 [00:02<00:00, 10.55it/s]\n"
     ]
    }
   ],
   "source": [
    "# generate\n",
    "corpus = hy.Corpus.from_text_files(nh_corpus, preproc_func = hy.tokenize_texts, keep_n = 5000)"
   ]
  },
  {
   "cell_type": "code",
   "execution_count": 132,
   "metadata": {},
   "outputs": [],
   "source": [
    "# generate\n",
    "bunch = hy.Bunch(\"results/hy_hawthorne\", corpus, force_overwrite = True)"
   ]
  },
  {
   "cell_type": "code",
   "execution_count": 422,
   "metadata": {},
   "outputs": [],
   "source": [
    "# load\n",
    "bunch = hy.Bunch('results/hy_hawthorne/')"
   ]
  },
  {
   "cell_type": "code",
   "execution_count": 423,
   "metadata": {},
   "outputs": [],
   "source": [
    "vectors_nh, results_nh = bunch.svd(keyed_vectors = True, subsample = None)"
   ]
  },
  {
   "cell_type": "code",
   "execution_count": 424,
   "metadata": {},
   "outputs": [
    {
     "data": {
      "text/plain": [
       "[('prynne', 0.6416890621185303),\n",
       " ('pearl', 0.24967367947101593),\n",
       " ('miriam', 0.23768633604049683),\n",
       " ('she', 0.22650045156478882),\n",
       " ('hibbins', 0.2198188453912735),\n",
       " ('thou', 0.19863906502723694),\n",
       " ('mistress', 0.19824433326721191),\n",
       " ('thyself', 0.19154658913612366),\n",
       " ('pit', 0.1914704144001007),\n",
       " ('arthur', 0.18614283204078674)]"
      ]
     },
     "execution_count": 424,
     "metadata": {},
     "output_type": "execute_result"
    }
   ],
   "source": [
    "vectors_nh.most_similar('hester')"
   ]
  },
  {
   "cell_type": "code",
   "execution_count": 425,
   "metadata": {},
   "outputs": [
    {
     "data": {
      "text/plain": [
       "[('child', 0.25472408533096313),\n",
       " ('hester', 0.24967367947101593),\n",
       " ('mother', 0.2277851104736328),\n",
       " ('naughty', 0.19791392982006073),\n",
       " ('hannah', 0.1876162588596344),\n",
       " ('babe', 0.17599552869796753),\n",
       " ('she', 0.17360076308250427),\n",
       " ('rigby', 0.1705891191959381),\n",
       " ('listened', 0.1696358472108841),\n",
       " ('hush', 0.16588468849658966)]"
      ]
     },
     "execution_count": 425,
     "metadata": {},
     "output_type": "execute_result"
    }
   ],
   "source": [
    "vectors_nh.most_similar('pearl')"
   ]
  },
  {
   "cell_type": "markdown",
   "metadata": {},
   "source": [
    "## Gale 1828-1864 including NH"
   ]
  },
  {
   "cell_type": "code",
   "execution_count": 151,
   "metadata": {},
   "outputs": [],
   "source": [
    "path = '/Users/e/code/hawthorne/local/corpus'"
   ]
  },
  {
   "cell_type": "code",
   "execution_count": 644,
   "metadata": {},
   "outputs": [],
   "source": [
    "# generate\n",
    "# corpus = hy.Corpus.from_text_files(path, preproc_func = hy.tokenize_texts, keep_n = 10000)\n",
    "\n",
    "# load\n",
    "corpus = hy.Corpus.load('results/corpus_subsample_none/corpus.pkl')"
   ]
  },
  {
   "cell_type": "code",
   "execution_count": 646,
   "metadata": {},
   "outputs": [],
   "source": [
    "# generate\n",
    "# bunch = hy.Bunch(\"results/corpus_subsample_none\", corpus, force_overwrite = True)\n",
    "\n",
    "# load\n",
    "bunch = hy.Bunch('results/corpus_subsample_none//')"
   ]
  },
  {
   "cell_type": "code",
   "execution_count": 647,
   "metadata": {},
   "outputs": [],
   "source": [
    "vectors, results = bunch.svd(keyed_vectors = True, subsample = None)"
   ]
  },
  {
   "cell_type": "code",
   "execution_count": 648,
   "metadata": {},
   "outputs": [
    {
     "data": {
      "text/plain": [
       "[('methodist', 0.3934868574142456),\n",
       " ('primitive', 0.3582947552204132),\n",
       " ('dutch', 0.35332465171813965),\n",
       " ('quaker', 0.33089378476142883),\n",
       " ('protestant', 0.3207319974899292),\n",
       " ('baptist', 0.3153371214866638),\n",
       " ('catholic', 0.3104977011680603),\n",
       " ('jewish', 0.24452072381973267),\n",
       " ('christian', 0.23519401252269745),\n",
       " ('parson', 0.22869554162025452)]"
      ]
     },
     "execution_count": 648,
     "metadata": {},
     "output_type": "execute_result"
    }
   ],
   "source": [
    "vectors.most_similar('puritan')"
   ]
  },
  {
   "cell_type": "code",
   "execution_count": 727,
   "metadata": {},
   "outputs": [
    {
     "data": {
      "text/plain": [
       "[('miriam', 0.3072657883167267),\n",
       " ('isabel', 0.303394615650177),\n",
       " ('christine', 0.29878801107406616),\n",
       " ('maud', 0.27142563462257385),\n",
       " ('constance', 0.2633606493473053),\n",
       " ('marian', 0.26311105489730835),\n",
       " ('theresa', 0.25412988662719727),\n",
       " ('annie', 0.2525578439235687),\n",
       " ('pauline', 0.2524963617324829),\n",
       " ('linda', 0.25059691071510315)]"
      ]
     },
     "execution_count": 727,
     "metadata": {},
     "output_type": "execute_result"
    }
   ],
   "source": [
    "vectors.most_similar('hester')"
   ]
  },
  {
   "cell_type": "markdown",
   "metadata": {},
   "source": [
    "## Gale 1828-1864 excluding NH"
   ]
  },
  {
   "cell_type": "code",
   "execution_count": 156,
   "metadata": {},
   "outputs": [],
   "source": [
    "path = '/Users/e/code/hawthorne/local/corpus_no_nh'"
   ]
  },
  {
   "cell_type": "code",
   "execution_count": 649,
   "metadata": {},
   "outputs": [],
   "source": [
    "# generate\n",
    "# corpus_no_nh = hy.Corpus.from_text_files(path, preproc_func = hy.tokenize_texts, keep_n = 10000)\n",
    "\n",
    "# load\n",
    "corpus_no_nh = hy.Corpus.load('results/corpus_no_nh_subsample_none/corpus.pkl')"
   ]
  },
  {
   "cell_type": "code",
   "execution_count": 650,
   "metadata": {},
   "outputs": [],
   "source": [
    "# generate\n",
    "# bunch = hy.Bunch(\"results/corpus_no_nh_subsample_none\", corpus, force_overwrite=True)\n",
    "\n",
    "# load\n",
    "bunch = hy.Bunch('results/corpus_no_nh_subsample_none//')"
   ]
  },
  {
   "cell_type": "code",
   "execution_count": 651,
   "metadata": {},
   "outputs": [],
   "source": [
    "vectors_no_nh, results_no_nh = bunch.svd(keyed_vectors = True)"
   ]
  },
  {
   "cell_type": "code",
   "execution_count": 652,
   "metadata": {},
   "outputs": [
    {
     "data": {
      "text/plain": [
       "[('methodist', 0.34290313720703125),\n",
       " ('quaker', 0.3168374300003052),\n",
       " ('primitive', 0.29920345544815063),\n",
       " ('dutch', 0.29672470688819885),\n",
       " ('baptist', 0.2812960147857666),\n",
       " ('catholic', 0.27922335267066956),\n",
       " ('english', 0.2629094123840332),\n",
       " ('protestant', 0.2529698610305786),\n",
       " ('christian', 0.24499836564064026),\n",
       " ('yankee', 0.23915767669677734)]"
      ]
     },
     "execution_count": 652,
     "metadata": {},
     "output_type": "execute_result"
    }
   ],
   "source": [
    "vectors_no_nh.most_similar('puritan')"
   ]
  },
  {
   "cell_type": "code",
   "execution_count": 724,
   "metadata": {},
   "outputs": [
    {
     "data": {
      "text/plain": [
       "[('julie', 0.2691107392311096),\n",
       " ('christine', 0.2456360012292862),\n",
       " ('anna', 0.2245090901851654),\n",
       " ('estelle', 0.21444502472877502),\n",
       " ('viola', 0.20676776766777039),\n",
       " ('julia', 0.20160716772079468),\n",
       " ('emma', 0.20148344337940216),\n",
       " ('adeline', 0.19821283221244812),\n",
       " ('theresa', 0.1944657564163208),\n",
       " ('apd', 0.1920011192560196)]"
      ]
     },
     "execution_count": 724,
     "metadata": {},
     "output_type": "execute_result"
    }
   ],
   "source": [
    "vectors_no_nh.most_similar('hester')"
   ]
  },
  {
   "cell_type": "markdown",
   "metadata": {},
   "source": [
    "# Comparing vectors across models\n",
    "In order to compare across models, we take aggregate the differences of the cosine similarities between every vector in the model."
   ]
  },
  {
   "cell_type": "markdown",
   "metadata": {},
   "source": [
    "## Differences in cosine similarity\n",
    "Because SVDs of PPMI are not stochastic, differences between the two models are attributable to the presence or absence of Hawthorne's work."
   ]
  },
  {
   "cell_type": "code",
   "execution_count": 653,
   "metadata": {},
   "outputs": [],
   "source": [
    "import pandas as pd\n",
    "from multiprocessing import Pool\n",
    "import pickle\n",
    "import time\n",
    "import os"
   ]
  },
  {
   "cell_type": "code",
   "execution_count": 654,
   "metadata": {},
   "outputs": [],
   "source": [
    "def get_vocab(c):\n",
    "    '''\n",
    "    Gets vocabulary from hyperhyper corpus object, c.\n",
    "    '''\n",
    "    return set([x for x in c.vocab.values()])"
   ]
  },
  {
   "cell_type": "code",
   "execution_count": 655,
   "metadata": {},
   "outputs": [],
   "source": [
    "def get_shared_vocab(c1, c2):\n",
    "    '''\n",
    "    Returns shared vocab between hyperhyper corpus objects.\n",
    "    '''\n",
    "    return list(get_vocab(c1) & get_vocab(c2))"
   ]
  },
  {
   "cell_type": "code",
   "execution_count": 656,
   "metadata": {},
   "outputs": [],
   "source": [
    "def diff_vector(word, v1, v2, vocab = None, topn = 10000, pkl = False):\n",
    "    '''\n",
    "    Takes hyperhyper vector objects and returns the difference between those vectors as a dict.\n",
    "    '''\n",
    "    # get cosine similarities\n",
    "    sim1 = v1.most_similar(word, topn = topn)\n",
    "    sim2 = v2.most_similar(word, topn = topn)\n",
    "\n",
    "    # calculate differences\n",
    "    sim1 = pd.Series(data = [x[1] for x in sim1], index = [x[0] for x in sim1])\n",
    "    sim2 = pd.Series(data = [x[1] for x in sim2], index = [x[0] for x in sim2])\n",
    "    diff = sim1 - sim2\n",
    "    total = diff.abs().sum()\n",
    "    \n",
    "    # optionally write individual output\n",
    "    if pkl:\n",
    "        d = {'word'          : word,\n",
    "             'abs_diff'      : total,\n",
    "             'sim1'          : sim1,\n",
    "             'sim2'          : sim2}\n",
    "        \n",
    "        fn = str(round(time.time())) + '_' + word + '.pkl'\n",
    "        path = os.path.join('results/vec_diffs', fn)\n",
    "        # write\n",
    "        with open(path, 'wb') as f:\n",
    "            pickle.dump(d, f)\n",
    "            f.close()\n",
    "        print('\\r{} pickled at {}'.format(word, path))\n",
    "    \n",
    "    # return observation\n",
    "    d = {'word'          : word,\n",
    "         'abs_diff'      : total}\n",
    "\n",
    "    return d"
   ]
  },
  {
   "cell_type": "code",
   "execution_count": 657,
   "metadata": {},
   "outputs": [],
   "source": [
    "# linear, takes 5-10 minutes for a vocab of 10k\n",
    "\n",
    "def diff_vectors(v1, v2, vocab):\n",
    "    '''\n",
    "    Takes hyperhyper vector objects (v1, v2), and calculates the absolute difference between them.\n",
    "    \n",
    "    Corpus objects (c1, c2) used to extract vocabularies and calculate intersection.\n",
    "    '''\n",
    "    \n",
    "    l = []\n",
    "    \n",
    "    for i, word in enumerate(vocab):\n",
    "        l.append(diff_vector(word, v1, v2))\n",
    "        if i % 100 == 0:\n",
    "            pct = round((i / len(vocab)) * 100)\n",
    "            print('\\r{}%'.format(pct), end = '')\n",
    "    \n",
    "    # pickle output\n",
    "    fn = str(round(time.time())) + '_diff_vectors.pkl'\n",
    "    path = os.path.join('results/vec_diffs', fn)\n",
    "    \n",
    "    with open(path, 'wb') as f:\n",
    "        pickle.dump(l, f)\n",
    "        f.close()\n",
    "    print('\\rpickle: {}'.format(path))\n",
    "            \n",
    "    return l"
   ]
  },
  {
   "cell_type": "code",
   "execution_count": 658,
   "metadata": {},
   "outputs": [],
   "source": [
    "vocab = get_shared_vocab(corpus, corpus_no_nh)"
   ]
  },
  {
   "cell_type": "code",
   "execution_count": 660,
   "metadata": {},
   "outputs": [
    {
     "name": "stdout",
     "output_type": "stream",
     "text": [
      "pickle: results/vec_diffs/1605914440_diff_vectors.pkl\n"
     ]
    }
   ],
   "source": [
    "# generate\n",
    "diffs = diff_vectors(vectors, vectors_no_nh, vocab)"
   ]
  },
  {
   "cell_type": "markdown",
   "metadata": {},
   "source": [
    "# Create a table of results"
   ]
  },
  {
   "cell_type": "code",
   "execution_count": 664,
   "metadata": {},
   "outputs": [],
   "source": [
    "# load\n",
    "diffs = pickle.load(open('/Users/e/code/hawthorne/results/vec_diffs/1605914440_diff_vectors.pkl', 'rb'))"
   ]
  },
  {
   "cell_type": "code",
   "execution_count": 665,
   "metadata": {},
   "outputs": [],
   "source": [
    "df = pd.DataFrame(diffs)"
   ]
  },
  {
   "cell_type": "code",
   "execution_count": 668,
   "metadata": {},
   "outputs": [
    {
     "data": {
      "text/plain": [
       "count    9985.000000\n",
       "mean      213.882300\n",
       "std        27.214233\n",
       "min       119.660099\n",
       "25%       194.109672\n",
       "50%       211.449624\n",
       "75%       232.322910\n",
       "max       350.309245\n",
       "Name: abs_diff, dtype: float64"
      ]
     },
     "execution_count": 668,
     "metadata": {},
     "output_type": "execute_result"
    }
   ],
   "source": [
    "df['abs_diff'].describe()"
   ]
  },
  {
   "cell_type": "code",
   "execution_count": 669,
   "metadata": {},
   "outputs": [],
   "source": [
    "# Add corpus raw frequency to output\n",
    "d = {v : corpus.counts[k] for k,v in corpus.vocab.items()}\n",
    "e = {v : corpus_no_nh.counts[k] for k,v in corpus_no_nh.vocab.items()}"
   ]
  },
  {
   "cell_type": "code",
   "execution_count": 671,
   "metadata": {},
   "outputs": [],
   "source": [
    "# Make pandas objects\n",
    "ds = pd.Series(d)\n",
    "ds.name = '# Gale'\n",
    "es = pd.Series(e)\n",
    "es.name = '# Gale - NH'"
   ]
  },
  {
   "cell_type": "code",
   "execution_count": 672,
   "metadata": {},
   "outputs": [],
   "source": [
    "counts = pd.merge(ds, es, left_on = ds.index, right_on = es.index)"
   ]
  },
  {
   "cell_type": "code",
   "execution_count": 674,
   "metadata": {},
   "outputs": [],
   "source": [
    "counts.rename(columns = {'key_0':'word'}, inplace=True)"
   ]
  },
  {
   "cell_type": "code",
   "execution_count": 676,
   "metadata": {},
   "outputs": [],
   "source": [
    "df = pd.merge(df, counts, on = 'word').set_index('word')"
   ]
  },
  {
   "cell_type": "code",
   "execution_count": 677,
   "metadata": {},
   "outputs": [
    {
     "data": {
      "text/html": [
       "<div>\n",
       "<style scoped>\n",
       "    .dataframe tbody tr th:only-of-type {\n",
       "        vertical-align: middle;\n",
       "    }\n",
       "\n",
       "    .dataframe tbody tr th {\n",
       "        vertical-align: top;\n",
       "    }\n",
       "\n",
       "    .dataframe thead th {\n",
       "        text-align: right;\n",
       "    }\n",
       "</style>\n",
       "<table border=\"1\" class=\"dataframe\">\n",
       "  <thead>\n",
       "    <tr style=\"text-align: right;\">\n",
       "      <th></th>\n",
       "      <th>abs_diff</th>\n",
       "      <th># Gale</th>\n",
       "      <th># Gale - NH</th>\n",
       "    </tr>\n",
       "    <tr>\n",
       "      <th>word</th>\n",
       "      <th></th>\n",
       "      <th></th>\n",
       "      <th></th>\n",
       "    </tr>\n",
       "  </thead>\n",
       "  <tbody>\n",
       "    <tr>\n",
       "      <th>twice</th>\n",
       "      <td>234.924290</td>\n",
       "      <td>11751</td>\n",
       "      <td>11694</td>\n",
       "    </tr>\n",
       "    <tr>\n",
       "      <th>muscle</th>\n",
       "      <td>206.839319</td>\n",
       "      <td>2026</td>\n",
       "      <td>2021</td>\n",
       "    </tr>\n",
       "    <tr>\n",
       "      <th>idiot</th>\n",
       "      <td>226.529023</td>\n",
       "      <td>1520</td>\n",
       "      <td>1509</td>\n",
       "    </tr>\n",
       "    <tr>\n",
       "      <th>trio</th>\n",
       "      <td>223.319823</td>\n",
       "      <td>1318</td>\n",
       "      <td>1317</td>\n",
       "    </tr>\n",
       "    <tr>\n",
       "      <th>again</th>\n",
       "      <td>230.995042</td>\n",
       "      <td>194486</td>\n",
       "      <td>193522</td>\n",
       "    </tr>\n",
       "  </tbody>\n",
       "</table>\n",
       "</div>"
      ],
      "text/plain": [
       "          abs_diff  # Gale  # Gale - NH\n",
       "word                                   \n",
       "twice   234.924290   11751        11694\n",
       "muscle  206.839319    2026         2021\n",
       "idiot   226.529023    1520         1509\n",
       "trio    223.319823    1318         1317\n",
       "again   230.995042  194486       193522"
      ]
     },
     "execution_count": 677,
     "metadata": {},
     "output_type": "execute_result"
    }
   ],
   "source": [
    "df.head()"
   ]
  },
  {
   "cell_type": "markdown",
   "metadata": {},
   "source": [
    "Hawthorne accounts for about 1 million words (`1062724`) in the model:"
   ]
  },
  {
   "cell_type": "code",
   "execution_count": 300,
   "metadata": {},
   "outputs": [],
   "source": [
    "nh_n = df['# Gale'].sum() - df['# Gale - NH'].sum()"
   ]
  },
  {
   "cell_type": "code",
   "execution_count": 310,
   "metadata": {},
   "outputs": [
    {
     "data": {
      "text/plain": [
       "1062724"
      ]
     },
     "execution_count": 310,
     "metadata": {},
     "output_type": "execute_result"
    }
   ],
   "source": [
    "nh_n"
   ]
  },
  {
   "cell_type": "markdown",
   "metadata": {},
   "source": [
    "In percentage terms:"
   ]
  },
  {
   "cell_type": "code",
   "execution_count": 678,
   "metadata": {},
   "outputs": [
    {
     "data": {
      "text/plain": [
       "'0.512%'"
      ]
     },
     "execution_count": 678,
     "metadata": {},
     "output_type": "execute_result"
    }
   ],
   "source": [
    "'{}%'.format(round((nh_n / df['# Gale'].sum()) * 100, 3))"
   ]
  },
  {
   "cell_type": "code",
   "execution_count": 681,
   "metadata": {},
   "outputs": [],
   "source": [
    "# Per-word proportion\n",
    "observed = 1 - (df['# Gale - NH'] / df['# Gale'])\n",
    "expected = nh_n / df['# Gale'].sum()\n",
    "df['obs / exp'] = observed / expected\n",
    "\n",
    "# Create status for obs/exp for plotting\n",
    "df['o/e labels'] = ['more' if x > 1 else 'less' for x in df['obs / exp']]"
   ]
  },
  {
   "cell_type": "code",
   "execution_count": 696,
   "metadata": {},
   "outputs": [],
   "source": [
    "# modified from David Bamman's anlp19\n",
    "import operator\n",
    "\n",
    "def chi_square(one_counts, two_counts):\n",
    "\n",
    "    one_sum=0.\n",
    "    two_sum=0.\n",
    "    vocab={}\n",
    "    for word in one_counts.index:\n",
    "        one_sum+=one_counts[word]\n",
    "        vocab[word]=1\n",
    "    for word in two_counts.index:\n",
    "        vocab[word]=1\n",
    "        two_sum+=two_counts[word]\n",
    "\n",
    "    N=one_sum+two_sum\n",
    "    vals={}\n",
    "    \n",
    "    for word in vocab:\n",
    "        O11=one_counts[word]\n",
    "        O12=two_counts[word]\n",
    "        O21=one_sum-one_counts[word]\n",
    "        O22=two_sum-two_counts[word]\n",
    "        \n",
    "        # We'll use the simpler form given in Manning and Schuetze (1999) \n",
    "        # for 2x2 contingency tables: \n",
    "        # https://nlp.stanford.edu/fsnlp/promo/colloc.pdf, equation 5.7\n",
    "        \n",
    "        vals[word]=(N*(O11*O22 - O12*O21)**2)/((O11 + O12)*(O11+O21)*(O12+O22)*(O21+O22))\n",
    "        \n",
    "    sorted_chi = sorted(vals.items(), key=operator.itemgetter(1), reverse=True)\n",
    "    one=[]\n",
    "    two=[]\n",
    "    \n",
    "    for k,v in sorted_chi:\n",
    "        if one_counts[k]/one_sum > two_counts[k]/two_sum:\n",
    "            one.append(k)\n",
    "        else:\n",
    "            two.append(k)\n",
    "\n",
    "    print (\"\\n\\nterms distinctive of One:\\n\")\n",
    "    for k in one[:20]:\n",
    "        print(\"%s\\t%s\" % (k,vals[k]))\n",
    "\n",
    "    print (\"\\n\\nterms distinctive of Two:\\n\")\n",
    "    for k in two[:20]:\n",
    "        print(\"%s\\t%s\" % (k,vals[k]))\n",
    "        \n",
    "    return one, vals"
   ]
  },
  {
   "cell_type": "code",
   "execution_count": 697,
   "metadata": {},
   "outputs": [
    {
     "name": "stdout",
     "output_type": "stream",
     "text": [
      "\n",
      "\n",
      "terms distinctive of One:\n",
      "\n",
      "hester\t139.11066341050537\n",
      "miriam\t44.38690970296908\n",
      "pearl\t40.35919686832783\n",
      "priscilla\t15.572922959773068\n",
      "roger\t10.044538818381085\n",
      "clifford\t8.186828448315238\n",
      "aspect\t7.908738625559562\n",
      "scarlet\t7.746197019894682\n",
      "sunshine\t7.536481588953894\n",
      "of\t7.361668516362739\n",
      "puritan\t6.135454614720828\n",
      "its\t5.740655175594188\n",
      "likewise\t5.517116534188956\n",
      "beatrice\t5.231282131322738\n",
      "minister\t4.144536377058294\n",
      "figure\t4.0365937091778425\n",
      "wrought\t3.757291017605843\n",
      "antique\t3.7257246070267698\n",
      "a\t3.579126021038912\n",
      "edifice\t3.3156225444498015\n",
      "\n",
      "\n",
      "terms distinctive of Two:\n",
      "\n",
      "i\t11.08100424801734\n",
      "you\t7.7273330148574795\n",
      "t\t4.537101218717162\n",
      "he\t3.0763439997428605\n",
      "she\t2.3512240624555814\n",
      "mrs\t2.2968084870675285\n",
      "to\t1.4938116460820103\n",
      "don\t1.48992146240461\n",
      "her\t1.3439488663645498\n",
      "do\t1.2535035260796406\n",
      "your\t1.220099953800468\n",
      "for\t1.1989699487860992\n",
      "d\t1.1518729480959562\n",
      "said\t1.1362920988849095\n",
      "will\t1.0821936418786973\n",
      "miss\t1.0809167028494493\n",
      "mr\t1.0777622249169774\n",
      "ll\t1.0248560264056723\n",
      "not\t1.0039733996655333\n",
      "am\t0.9480372889064581\n"
     ]
    }
   ],
   "source": [
    "dws, vals = chi_square(df['# Gale'], df['# Gale - NH'])"
   ]
  },
  {
   "cell_type": "code",
   "execution_count": 702,
   "metadata": {},
   "outputs": [],
   "source": [
    "# words distinctive of NH per chi2\n",
    "df['nh_distinctive'] = df.index.isin(dws)"
   ]
  },
  {
   "cell_type": "code",
   "execution_count": 703,
   "metadata": {},
   "outputs": [],
   "source": [
    "df['chi2'] = pd.Series(vals)"
   ]
  },
  {
   "cell_type": "code",
   "execution_count": 707,
   "metadata": {},
   "outputs": [],
   "source": [
    "df['n_diff'] = df['# Gale'] - df['# Gale - NH']"
   ]
  },
  {
   "cell_type": "code",
   "execution_count": 712,
   "metadata": {},
   "outputs": [],
   "source": [
    "# add stopword metadata\n",
    "stopwords = nltk.corpus.stopwords.words('english')\n",
    "df['stopword'] = df.index.isin(stopwords)"
   ]
  },
  {
   "cell_type": "code",
   "execution_count": 719,
   "metadata": {},
   "outputs": [],
   "source": [
    "# add dictionary filter\n",
    "with open('/Users/e/Documents/Literary Lab/word lists/oed_wordlist.txt', 'r') as f:\n",
    "    oed_words = [x for x in f.read().split('\\n') if x]"
   ]
  },
  {
   "cell_type": "code",
   "execution_count": 720,
   "metadata": {},
   "outputs": [],
   "source": [
    "df['dict_word'] = df.index.isin(oed_words)"
   ]
  },
  {
   "cell_type": "markdown",
   "metadata": {},
   "source": [
    "This is the dataset used to produce graphs in Tableau:"
   ]
  },
  {
   "cell_type": "code",
   "execution_count": 722,
   "metadata": {},
   "outputs": [],
   "source": [
    "df.to_csv('/Users/e/code/hawthorne/hawthorne_diffs.csv')"
   ]
  },
  {
   "cell_type": "code",
   "execution_count": 731,
   "metadata": {},
   "outputs": [],
   "source": [
    "df[df['n_diff']>=40].to_csv('/Users/e/code/hawthorne/hawthorne_diffs_>40.csv')"
   ]
  },
  {
   "cell_type": "markdown",
   "metadata": {},
   "source": [
    "# Texts involving keywords\n",
    "Finding portions of Hawthorne where the keywords elevated by the model are most concentrated."
   ]
  },
  {
   "cell_type": "code",
   "execution_count": 786,
   "metadata": {},
   "outputs": [],
   "source": [
    "keywords = ['likewise', 'puritan', 'minister', 'artist', 'substance', 'methinks', 'whether', 'lifetime',\n",
    "           'world', 'mankind', 'pilgrims', 'fling', 'province', 'painter', 'brotherhood', 'clergyman',\n",
    "           'artist', 'fireside', 'might', 'hither', 'reverend', 'whatever', 'merely', 'fireside', 'antique',\n",
    "           'wrought', 'airy', 'discern', 'shadow', 'image', 'actual', 'flung', 'dusky']"
   ]
  },
  {
   "cell_type": "markdown",
   "metadata": {},
   "source": [
    "We're going to check the vectors to see which words Hawthorne re-ranks in similarity."
   ]
  },
  {
   "cell_type": "code",
   "execution_count": 795,
   "metadata": {},
   "outputs": [],
   "source": [
    "def rank_similarities(word, vectors):\n",
    "    c = 1\n",
    "    d = {}\n",
    "    \n",
    "    for x in vectors.most_similar(word, topn=10000):\n",
    "        d[x[0]] = c\n",
    "        c += 1\n",
    "    \n",
    "    return d"
   ]
  },
  {
   "cell_type": "code",
   "execution_count": 810,
   "metadata": {},
   "outputs": [],
   "source": [
    "def get_rank_change(word, v1, v2, topn = 20, spearman = True):\n",
    "    d = rank_similarities(word, v1)\n",
    "    e = rank_similarities(word, v2)\n",
    "    data = pd.concat([pd.Series(d), pd.Series(e)], axis = 1)\n",
    "    data.columns = ['v1_rank', 'v2_rank']\n",
    "    data['rank_change'] = data['v1_rank'] - data['v2_rank']\n",
    "    # filter\n",
    "    data.dropna(axis=0, inplace=True)\n",
    "    subset = data[data['v1_rank'] <= topn]\n",
    "    subset.sort_values('rank_change', ascending = False, inplace = True)\n",
    "    # write\n",
    "    if spearman:\n",
    "        sp = stats.spearmanr(subset['v1_rank'], subset['v2_rank'])[0]\n",
    "        fp = '/Users/e/code/hawthorne/results/rank_changes'\n",
    "        fp = os.path.join(fp, '{}_{}_rank_change.csv'.format(str(sp)[:4], word))\n",
    "        subset.to_csv(fp)\n",
    "    else:\n",
    "        fp = '/Users/e/code/hawthorne/results/rank_changes'\n",
    "        fp = os.path.join(fp, '{}_rank_change.csv'.format(word))\n",
    "    # notify\n",
    "    print(fp)\n",
    "    return"
   ]
  },
  {
   "cell_type": "code",
   "execution_count": 811,
   "metadata": {},
   "outputs": [
    {
     "name": "stderr",
     "output_type": "stream",
     "text": [
      "<ipython-input-810-1be216334ace>:10: SettingWithCopyWarning:\n",
      "\n",
      "\n",
      "A value is trying to be set on a copy of a slice from a DataFrame\n",
      "\n",
      "See the caveats in the documentation: https://pandas.pydata.org/pandas-docs/stable/user_guide/indexing.html#returning-a-view-versus-a-copy\n",
      "\n"
     ]
    },
    {
     "name": "stdout",
     "output_type": "stream",
     "text": [
      "/Users/e/code/hawthorne/results/rank_changes/0.54_likewise_rank_change.csv\n",
      "/Users/e/code/hawthorne/results/rank_changes/0.76_puritan_rank_change.csv\n",
      "/Users/e/code/hawthorne/results/rank_changes/0.80_minister_rank_change.csv\n",
      "/Users/e/code/hawthorne/results/rank_changes/0.68_artist_rank_change.csv\n",
      "/Users/e/code/hawthorne/results/rank_changes/0.53_substance_rank_change.csv\n",
      "/Users/e/code/hawthorne/results/rank_changes/0.61_methinks_rank_change.csv\n",
      "/Users/e/code/hawthorne/results/rank_changes/0.58_whether_rank_change.csv\n",
      "/Users/e/code/hawthorne/results/rank_changes/0.64_lifetime_rank_change.csv\n",
      "/Users/e/code/hawthorne/results/rank_changes/0.66_world_rank_change.csv\n",
      "/Users/e/code/hawthorne/results/rank_changes/0.56_mankind_rank_change.csv\n",
      "/Users/e/code/hawthorne/results/rank_changes/0.70_pilgrims_rank_change.csv\n",
      "/Users/e/code/hawthorne/results/rank_changes/0.74_fling_rank_change.csv\n",
      "/Users/e/code/hawthorne/results/rank_changes/0.86_province_rank_change.csv\n",
      "/Users/e/code/hawthorne/results/rank_changes/0.81_painter_rank_change.csv\n",
      "/Users/e/code/hawthorne/results/rank_changes/0.61_brotherhood_rank_change.csv\n",
      "/Users/e/code/hawthorne/results/rank_changes/0.81_clergyman_rank_change.csv\n",
      "/Users/e/code/hawthorne/results/rank_changes/0.68_artist_rank_change.csv\n",
      "/Users/e/code/hawthorne/results/rank_changes/0.85_fireside_rank_change.csv\n",
      "/Users/e/code/hawthorne/results/rank_changes/0.81_might_rank_change.csv\n",
      "/Users/e/code/hawthorne/results/rank_changes/0.80_hither_rank_change.csv\n",
      "/Users/e/code/hawthorne/results/rank_changes/0.72_reverend_rank_change.csv\n",
      "/Users/e/code/hawthorne/results/rank_changes/0.74_whatever_rank_change.csv\n",
      "/Users/e/code/hawthorne/results/rank_changes/0.74_merely_rank_change.csv\n",
      "/Users/e/code/hawthorne/results/rank_changes/0.85_fireside_rank_change.csv\n",
      "/Users/e/code/hawthorne/results/rank_changes/0.74_antique_rank_change.csv\n",
      "/Users/e/code/hawthorne/results/rank_changes/0.56_wrought_rank_change.csv\n",
      "/Users/e/code/hawthorne/results/rank_changes/0.67_airy_rank_change.csv\n",
      "/Users/e/code/hawthorne/results/rank_changes/0.77_discern_rank_change.csv\n",
      "/Users/e/code/hawthorne/results/rank_changes/0.79_shadow_rank_change.csv\n",
      "/Users/e/code/hawthorne/results/rank_changes/0.85_image_rank_change.csv\n",
      "/Users/e/code/hawthorne/results/rank_changes/0.76_actual_rank_change.csv\n",
      "/Users/e/code/hawthorne/results/rank_changes/0.78_flung_rank_change.csv\n",
      "/Users/e/code/hawthorne/results/rank_changes/0.80_dusky_rank_change.csv\n"
     ]
    }
   ],
   "source": [
    "for word in keywords:\n",
    "    get_rank_change(word, vectors_no_nh, vectors, topn = 100)\n",
    "# read: introducing Hawthorne induces the change observed in rank_change"
   ]
  },
  {
   "cell_type": "code",
   "execution_count": 812,
   "metadata": {},
   "outputs": [
    {
     "name": "stdout",
     "output_type": "stream",
     "text": [
      "/Users/e/code/hawthorne/results/rank_changes/0.95_five_rank_change.csv\n",
      "/Users/e/code/hawthorne/results/rank_changes/0.91_six_rank_change.csv\n",
      "/Users/e/code/hawthorne/results/rank_changes/0.88_twenty_rank_change.csv\n"
     ]
    },
    {
     "name": "stderr",
     "output_type": "stream",
     "text": [
      "<ipython-input-810-1be216334ace>:10: SettingWithCopyWarning:\n",
      "\n",
      "\n",
      "A value is trying to be set on a copy of a slice from a DataFrame\n",
      "\n",
      "See the caveats in the documentation: https://pandas.pydata.org/pandas-docs/stable/user_guide/indexing.html#returning-a-view-versus-a-copy\n",
      "\n"
     ]
    }
   ],
   "source": [
    "# testing low-change words: five, six, twenty\n",
    "for word in ['five', 'six', 'twenty']:\n",
    "    get_rank_change(word, vectors_no_nh, vectors, topn = 100)"
   ]
  },
  {
   "cell_type": "markdown",
   "metadata": {},
   "source": [
    "# Getting textual examples"
   ]
  },
  {
   "cell_type": "code",
   "execution_count": 813,
   "metadata": {},
   "outputs": [],
   "source": [
    "pair = ['fling', 'put'] # ['flung', 'put']"
   ]
  },
  {
   "cell_type": "code",
   "execution_count": 820,
   "metadata": {},
   "outputs": [],
   "source": [
    "gale_nh = '/Users/e/code/hawthorne/local/gale_nh.txt' # single text file containing all NH texts in Gale"
   ]
  },
  {
   "cell_type": "code",
   "execution_count": 821,
   "metadata": {},
   "outputs": [],
   "source": [
    "with open(gale_nh, 'r') as f:\n",
    "    text = f.read()\n",
    "    f.close()"
   ]
  },
  {
   "cell_type": "code",
   "execution_count": 876,
   "metadata": {},
   "outputs": [],
   "source": [
    "def print_co_occs(w1, w2, text, win = 200):\n",
    "    from gensim.parsing.preprocessing import preprocess_string, strip_non_alphanum, strip_tags # same tokenizer as vector model\n",
    "    \n",
    "    # get positions to check\n",
    "    idx = None\n",
    "    l = []\n",
    "\n",
    "    while idx != -1:\n",
    "        if idx:\n",
    "            idx = text.find(' ' + w1, (idx + 1))\n",
    "            l.append(idx)\n",
    "        else: # first run condition\n",
    "            idx = text.find(' ' + w1)\n",
    "            l.append(idx)\n",
    "            \n",
    "    positions = [(x - win, x + win) for x in l]\n",
    "    texts = [text[x[0]:x[1]].lower() for x in positions]\n",
    "\n",
    "    tokens = [preprocess_string(x, [strip_non_alphanum, strip_tags]) for x in texts]\n",
    "\n",
    "    matches = []\n",
    "    for x, y in zip(tokens, positions):\n",
    "        if w2 in x:\n",
    "            # get the source text\n",
    "            print('\\n')\n",
    "            print('-'*80)\n",
    "            print(text[y[0]:y[1]])\n",
    "            print('\\n')\n",
    "            print('-'*80)\n",
    "            matches.append(y)\n",
    "    \n",
    "    return matches"
   ]
  },
  {
   "cell_type": "code",
   "execution_count": 885,
   "metadata": {},
   "outputs": [
    {
     "name": "stdout",
     "output_type": "stream",
     "text": [
      "\n",
      "\n",
      "--------------------------------------------------------------------------------\n",
      "opped short and fixed the glitter of\n",
      "his eye full upon the compassionate yet steady countenance\n",
      "of the sculptor.\n",
      "“ It gnaws me ! It gnaws me ! ” he exclaimed. ■\n",
      "And then there was an audible hiss, but whether it\n",
      "came from .the apparent lunatic’s own lips, or was the\n",
      "real hiss of a serpent, might admit of a discussion.\n",
      "At all events, it made Herkimer shudder to his heart’s\n",
      "core. “ Do you know me, G\n",
      "\n",
      "\n",
      "--------------------------------------------------------------------------------\n",
      "\n",
      "\n",
      "--------------------------------------------------------------------------------\n",
      "face.\n",
      "“The punishment has been severe,” observed the\n",
      "sculptor. “ Even Justice might now forgive ; how\n",
      "much more a woman’s tenderness ! Roderick Elliston,\n",
      "whether the serpent was a physical reptile, or whether\n",
      "the morbidness of your nature suggested that symbol\n",
      "to your fancy, the moral of the story is not the less true\n",
      "in., y our case in the fonp of jealousy , is as fearful a\n",
      "fiend as ever stole in\n",
      "\n",
      "\n",
      "--------------------------------------------------------------------------------\n",
      "\n",
      "\n",
      "--------------------------------------------------------------------------------\n",
      "formed,\n",
      "sooner or later, by misfortune, as by the intrusion of a\n",
      "grim face at a banquet ; of death-bed scenes, and what\n",
      "dark intimations might be gathered from the words of\n",
      "dying men ; of suicide, and whether the more eligible\n",
      "mode were by halter, knife, poison, drowning, gradual \\\n",
      "starvation, or the fumes of charcoal. The majority of \\\n",
      "the guests, as is the custom with people thoroughly and \\\n",
      "pro\n",
      "\n",
      "\n",
      "--------------------------------------------------------------------------------\n",
      "\n",
      "\n",
      "--------------------------------------------------------------------------------\n",
      "first attendance. Time, except in matters merely\n",
      "external, had done nothing for him, either of good or\n",
      "evil. As he took his place he threw a calm, inquiring\n",
      "glance around the table, as if to ascertain whether any\n",
      "guest had yet appeared, after so many unsuccessful\n",
      "banquets, who might impart to him the mystery  --  the\n",
      "deep, warm secret -- the life within the life -- which,\n",
      "whether manifested in joy\n",
      "\n",
      "\n",
      "--------------------------------------------------------------------------------\n",
      "\n",
      "\n",
      "--------------------------------------------------------------------------------\n",
      "s clothes perversely\n",
      "ill suited to his form, his eyes staring in directions\n",
      "opposite to their intelligence, and a certain odd\n",
      "unsuitableness pervading his whole figure. Wherever\n",
      "he might chance to be, whether in palace or cottage,\n",
      "church or market, on land or sea, or even at his own\n",
      "fireside, he must have worn the characteristic expression\n",
      "of a man out of his right place.\n",
      "“This,” inquired he, putt\n",
      "\n",
      "\n",
      "--------------------------------------------------------------------------------\n",
      "\n",
      "\n",
      "--------------------------------------------------------------------------------\n",
      "in its\n",
      "vwishes ; and this was the record of them all. There\n",
      "was an endless diversity of mode and circumstance, yet\n",
      "withal such a similarity in the real groundwork, that\n",
      "any one page of the volume  --  whether written in the\n",
      "days before the Flood, or the yesterday that is just gone\n",
      "by, or to be written on the morrow that is close at hand,\n",
      "or a thousand ages hence  --  might serve as a specimen\n",
      "of t\n",
      "\n",
      "\n",
      "--------------------------------------------------------------------------------\n",
      "\n",
      "\n",
      "--------------------------------------------------------------------------------\n",
      "ow that is close at hand,\n",
      "or a thousand ages hence  --  might serve as a specimen\n",
      "of the whole. Not but that there were wiW sallies of\n",
      "fantasy that could scarcely occur to more than one\n",
      "\n",
      "\n",
      "man’s brain, whether reasonable or lunatic. The\n",
      "strangest wishes  --  yet most incident to men who had\n",
      "gone deep into scientific pursuits, and attained a high\n",
      "intellectual stage, though not the loftiest  --  were\n",
      "\n",
      "\n",
      "--------------------------------------------------------------------------------\n",
      "\n",
      "\n",
      "--------------------------------------------------------------------------------\n",
      "\n",
      "stopt short, and fixed the glitter of his eye full upon the compassionate,\n",
      "yet steady countenance of the sculptor.\n",
      "“ It gnaws me ! It gnaws me !” he exclaimed.\n",
      "And then there was an audible hiss, but whether it came from\n",
      "the apparent lunatic’s own lips, or was the real hiss of a serpent,\n",
      "might admit of discussion. At all events, it made Herkimer\n",
      "shudder to his heart’s core.\n",
      "“Do you know me, Georg\n",
      "\n",
      "\n",
      "--------------------------------------------------------------------------------\n",
      "\n",
      "\n",
      "--------------------------------------------------------------------------------\n",
      "ive ! Forgive !”\n",
      "Her happy tears bedewed his face.\n",
      "“ The punishment has been severe,” observed the sculptor.\n",
      "“ Even Justice might now forgive -- how much more a woman’s\n",
      "tenderness ! Roderick Elliston, whether the serpent was a physical\n",
      "reptile, or whether the morbidness of your nature suggested\n",
      "that symbol to your fancy, the moral of the story is not the less\n",
      "true and strong. A tremendous Egotism \n",
      "\n",
      "\n",
      "--------------------------------------------------------------------------------\n",
      "\n",
      "\n",
      "--------------------------------------------------------------------------------\n",
      "ce.\n",
      "“ The punishment has been severe,” observed the sculptor.\n",
      "“ Even Justice might now forgive -- how much more a woman’s\n",
      "tenderness ! Roderick Elliston, whether the serpent was a physical\n",
      "reptile, or whether the morbidness of your nature suggested\n",
      "that symbol to your fancy, the moral of the story is not the less\n",
      "true and strong. A tremendous Egotism -- manifesting itself, in\n",
      "your case, in the for\n",
      "\n",
      "\n",
      "--------------------------------------------------------------------------------\n",
      "\n",
      "\n",
      "--------------------------------------------------------------------------------\n",
      "first attendance. Time, except in matters merely\n",
      "external, had done nothing for him, either of good or evil. As\n",
      "he took his place he threw a calm, inquiring glance around the\n",
      "table, as if to ascertain whether any guest had yet appeared, after\n",
      "so many unsuccessful banquets, who might impart to him the\n",
      "mystery -- the deep, warm secret -- the life within the life -- which,\n",
      "whether manifested in joy o\n",
      "\n",
      "\n",
      "--------------------------------------------------------------------------------\n",
      "\n",
      "\n",
      "--------------------------------------------------------------------------------\n",
      "s clothes perversely ill-suited to his\n",
      "form, his eyes staring in directions opposite to their intelligence,\n",
      "and a certain odd unsuitableness pervading his whole figure.\n",
      "Wherever he might chance to be, whether in palace or cottage,\n",
      "church or market, on land or sea, or even at his own fireside, he\n",
      "must have worn the characteristic expression of a man out of his\n",
      "right place.\n",
      "“ This,” inquired he, put\n",
      "\n",
      "\n",
      "--------------------------------------------------------------------------------\n",
      "\n",
      "\n",
      "--------------------------------------------------------------------------------\n",
      "d in\n",
      "its wishes; and this was the record of them all. There weis an\n",
      "endless diversity of mode and circumstance, yet withal such a\n",
      "similarity in the real ground-work, that any one page of the\n",
      "volume -- whether written in the days before the Flood, or the\n",
      "yesterday that is just gone by, or to be written on the morrow\n",
      "that is close at hand, or a thousand ages hence -- might serve as a\n",
      "specimen of the\n",
      "\n",
      "\n",
      "--------------------------------------------------------------------------------\n",
      "\n",
      "\n",
      "--------------------------------------------------------------------------------\n",
      "ure, and took another long look at it,\n",
      " --  “Poor sister Beatrice! for she was still a woman,\n",
      "Hilda, still a sister, be her sin or sorrow what they might.\n",
      "How well you have done it, Hilda ! I know not whether\n",
      "Guido will thank you, or be jealous of your rivalship.”\n",
      "“Jealous, indeed!” exclaimed Hilda. “If Guido had\n",
      "not wrought through me, my pains would have been\n",
      "thrown away.”\n",
      "“ After all,” resumed \n",
      "\n",
      "\n",
      "--------------------------------------------------------------------------------\n",
      "\n",
      "\n",
      "--------------------------------------------------------------------------------\n",
      "is not a pearl,” said she ; “ yet a man might\n",
      "drown himself in plunging after it.”\n",
      "After Kenyon had closed the door, she went wearily\n",
      "down the staircase, but paused midway, as if debating\n",
      "with herself whether to return.\n",
      "“ The mischief was done,” thought she ; “ and I might\n",
      "as well have had the solace that ought to come with it. I\n",
      "have lost  --  by staggering a little way beyond the mark,\n",
      "in the bl\n",
      "\n",
      "\n",
      "--------------------------------------------------------------------------------\n",
      "\n",
      "\n",
      "--------------------------------------------------------------------------------\n",
      "t be so? Had her eyes provoked or assented to this\n",
      "deed ? She had not known it. But, alas ! looking back\n",
      "\n",
      "\n",
      "into the frenzy and turmoil of the scene just acted, she\n",
      "could not deny  --  she was not sure whether it might be\n",
      "so, or no  --  that a wild joy had flamed up in her heart,\n",
      "when she beheld her persecutor in his mortal peril. Was\n",
      "it horror? -- or ecstasy?  --  or both in one? Be the\n",
      "emotion wh\n",
      "\n",
      "\n",
      "--------------------------------------------------------------------------------\n",
      "\n",
      "\n",
      "--------------------------------------------------------------------------------\n",
      "sh\n",
      "on his brow, cutting right across the stem scowl of battle\n",
      "! He should press his foot hard down upon the old\n",
      "serpent, as if his very soul depended upon it, feeling him\n",
      "squirm mightily, and doubting whether the fight were\n",
      "\n",
      "\n",
      "half over yet, and how the victory might turn ! And,\n",
      "with all this fierceness, this grimness, this unutterable\n",
      "horror, there should still be something high, tender, and\n",
      "holy,\n",
      "\n",
      "\n",
      "--------------------------------------------------------------------------------\n",
      "\n",
      "\n",
      "--------------------------------------------------------------------------------\n",
      "and if you can see what makes me shrink from you,\n",
      "you are welcome to put it in the bust. It is not my will,\n",
      "but my necessity, to avoid men’s eyes. Only,” he added,\n",
      "with a smile which made Kenyon doubt whether he might\n",
      "not as well copy the Faun as model a new bust, “ only,\n",
      "you know, you must not insist on my uncovering these\n",
      "ears of mine!”\n",
      "“Nay; I never should dream of such a thing,” answered\n",
      "the s\n",
      "\n",
      "\n",
      "--------------------------------------------------------------------------------\n",
      "\n",
      "\n",
      "--------------------------------------------------------------------------------\n",
      " “ Go on with your\n",
      "breakfast, little monkey ; the walk may be a long one,\n",
      "or he is so slight a weight that the wind may blow\n",
      "him overboard.”\n",
      "A very long walk it proved ; or it might be that\n",
      "some wind, whether evil or good, had blown him,\n",
      "as the Doctor suggested, into parts unknown ; for,\n",
      "from that time forth, the Yankee schoolmaster returned\n",
      "no more. It was a singular disappearance.\n",
      "\n",
      "\n",
      "The bed did \n",
      "\n",
      "\n",
      "--------------------------------------------------------------------------------\n",
      "\n",
      "\n",
      "--------------------------------------------------------------------------------\n",
      "s about\n",
      "your fate.”\n",
      "“There was nothing wonderful in my disappearance,”\n",
      "said the old man. “There w’ere causes, an\n",
      "impulse, an intuition, that made me feel, one particular\n",
      "night, that I might meet harm, whether, from\n",
      "\n",
      "\n",
      "myself or others, by remaining in a place with which\n",
      "I had the most casual connection. But I never, so\n",
      "long as I remained in America, quite lost sight of\n",
      "you ; and Doctor Grimshawe, b\n",
      "\n",
      "\n",
      "--------------------------------------------------------------------------------\n",
      "\n",
      "\n",
      "--------------------------------------------------------------------------------\n",
      "neees*sary to believe that\n",
      "there is also another set of beings dependent for their\n",
      "happiness on our doing, or leaving undone, what\n",
      "might have effect on them!”\n",
      "“ I question,” said Eedclyffe, smiling, “ whether\n",
      "their pleasurable or painful experiences can be so\n",
      "keen, that we need trouble our consciences much\n",
      "with regard to what we do, merely as it affects them.\n",
      "So highly cultivated a conscience as t\n",
      "\n",
      "\n",
      "--------------------------------------------------------------------------------\n",
      "\n",
      "\n",
      "--------------------------------------------------------------------------------\n",
      "rve, except that his eyes\n",
      "did not meet his like Anglo-Saxon eyes, and there\n",
      "seemed an Italian looking out from within the man.\n",
      "But liedclyffe had a sort of repulsion within himself ;\n",
      "and he questioned whether it would be fair to his\n",
      "proposed host to accept his hospitality, while he had\n",
      "this secret feeling of hostility and repugnance, -which\n",
      "might be well enough accounted for by the\n",
      "knowledge that \n",
      "\n",
      "\n",
      "--------------------------------------------------------------------------------\n",
      "\n",
      "\n",
      "--------------------------------------------------------------------------------\n",
      "\n",
      "poison of old times condensed into this animal, who\n",
      "might have sucked the diseases, moral and physical,\n",
      "\n",
      "\n",
      "of all this family into him, and to have made himself\n",
      "their demon. He questioned with himself whether\n",
      "it might not be well to crush him at once, and so\n",
      "perhaps do away with the evil of which he was the\n",
      "emblem. “ I felt a strange disposition to crush this monster\n",
      "at first,” remarked the priest\n",
      "\n",
      "\n",
      "--------------------------------------------------------------------------------\n",
      "\n",
      "\n",
      "--------------------------------------------------------------------------------\n",
      "alive at this day.”\n",
      "“ That I have not known, though I might conjecture\n",
      "something like it,” said Braithwaite.\n",
      "The coolness with which he took this perplexed\n",
      "Eedelyffe. He resolved to make trial at once whether\n",
      "it were possible to move him.\n",
      "“ And I have reason to believe,” he added, “ that\n",
      "that representative is myself.”\n",
      "“Should that prove to be the case, you are welcome\n",
      "back to your own,” said Lord\n",
      "\n",
      "\n",
      "--------------------------------------------------------------------------------\n",
      "\n",
      "\n",
      "--------------------------------------------------------------------------------\n",
      "rson was near him. But Red-\n",
      "\n",
      "\n",
      "clyffe was now resuming his firmness and daylight\n",
      "consciousness even in the dimness. He ran over\n",
      "all that he had heard of the legend of the old\n",
      "house, rapidly considering whether there might not\n",
      "be something of fact in the legend of the undying\n",
      "old man ; whether, as told or whispered in\n",
      "the chimney-corners, it might not be an instance of\n",
      "the mysterious, the half-spiri\n",
      "\n",
      "\n",
      "--------------------------------------------------------------------------------\n",
      "\n",
      "\n",
      "--------------------------------------------------------------------------------\n",
      "ciousness even in the dimness. He ran over\n",
      "all that he had heard of the legend of the old\n",
      "house, rapidly considering whether there might not\n",
      "be something of fact in the legend of the undying\n",
      "old man ; whether, as told or whispered in\n",
      "the chimney-corners, it might not be an instance of\n",
      "the mysterious, the half-spiritual mode, in which\n",
      "actual truths communicate themselves imperfectly\n",
      "through a mediu\n",
      "\n",
      "\n",
      "--------------------------------------------------------------------------------\n",
      "\n",
      "\n",
      "--------------------------------------------------------------------------------\n",
      "ature rather\n",
      "than a hardened one,  --  the boy uplifted his axe and\n",
      "dealt the wounded soldier a fierce and fatal blow upon\n",
      "the head.\n",
      "I could wish that the grave might be opened ; for I\n",
      "would fain know whether either of the skeleton soldiers\n",
      "has the mark of an axe in his skull. The story comes\n",
      "home to me like truth. Oftentimes, as an intellectual\n",
      "and moral exercise, I have sought to follow that poo\n",
      "\n",
      "\n",
      "--------------------------------------------------------------------------------\n",
      "\n",
      "\n",
      "--------------------------------------------------------------------------------\n",
      "er face perhaps it might,” replied\n",
      "her husband ; 44 but never on yours. No, dearest\n",
      "Georgiana, you came so nearly perfect from the hand\n",
      "of Nature that this slightest possible defect, which we\n",
      "hesitate whether to term a defect or a beauty, shocks\n",
      "me, as being the visible mark of earthly imperfection.”\n",
      "44 Shocks you, my husband ! ” cried Georgiana, deeply\n",
      "hurt ; at first reddening with momentary ang\n",
      "\n",
      "\n",
      "--------------------------------------------------------------------------------\n",
      "\n",
      "\n",
      "--------------------------------------------------------------------------------\n",
      "is the most precious\n",
      "poison that ever was concocted in this world. By its\n",
      "aid I could apportion the lifetime of any mortal at\n",
      "whom you might point your finger. The strength of\n",
      "the dose would determine whether he were to linger\n",
      "out years, or drop dead in the midst of a breath. No\n",
      "king on his guarded throne could keep his life if I, in\n",
      "my private station, should deem that the welfare of\n",
      "millions jus\n",
      "\n",
      "\n",
      "--------------------------------------------------------------------------------\n",
      "\n",
      "\n",
      "--------------------------------------------------------------------------------\n",
      " doubts, and defiled\n",
      "therewith the pure whiteness of Beatrice’s image. Not\n",
      "that he gave her up ; he did but distrust. He resolved\n",
      "to institute some decisive test that should satisfy him,\n",
      "once for all, whether there were those dreadful peculiarities\n",
      "in her physical nature which could not be supposed\n",
      "to exist without some corresponding monstrosity\n",
      "of soul. His eyes, gazing down afar, might have dece\n",
      "\n",
      "\n",
      "--------------------------------------------------------------------------------\n",
      "\n",
      "\n",
      "--------------------------------------------------------------------------------\n",
      " good driver.\n",
      "We ought to be thankful that none of our necks are\n",
      "broken.” “ We might have spared one neck out of the three,’ f\n",
      "\n",
      "\n",
      "muttered the driver, rubbing his ear and pulling his\n",
      "nose, to ascertain whether he had been cuffed or not.\n",
      "“ Why, the woman’s a witch ! ”\n",
      "I fear that the reader will not believe, yet it is positively\n",
      "a fact, that there stood Mrs. Bullfrog, with her\n",
      "glossy ringlets curlin\n",
      "\n",
      "\n",
      "--------------------------------------------------------------------------------\n",
      "\n",
      "\n",
      "--------------------------------------------------------------------------------\n",
      "d\n",
      "commodiously by railroad. Still, I grew anxious to be\n",
      "gone. There was one strange thing that troubled me.\n",
      "Amid the occupations or amusements of the Fair, nothing\n",
      "was more common than for a person -- whether at feast,\n",
      "theatre, or church, or trafficking for wealth and honors,\n",
      "or whatever he might be doing, and however unseasonable\n",
      "the interruption -- suddenly to vanish like a soap\n",
      "bubble, and be n\n",
      "\n",
      "\n",
      "--------------------------------------------------------------------------------\n",
      "\n",
      "\n",
      "--------------------------------------------------------------------------------\n",
      "nature, rather than a hardened one -- the boy uplifted his axe, and\n",
      "dealt the wounded soldier a fierce and fatal blow upon the head.\n",
      "1 could wish that the grave might be opened ; for I would fain\n",
      "know whether either of the skeleton soldiers has the mark of an\n",
      "axe in his skull. The story comes home to me like truth.\n",
      "Oftentimes, as an intellectual and moral exercise, I have sought\n",
      "to follow that poo\n",
      "\n",
      "\n",
      "--------------------------------------------------------------------------------\n",
      "\n",
      "\n",
      "--------------------------------------------------------------------------------\n",
      "face, perhaps it might,” replied her husband.\n",
      "“ But never on yours ! No, dearest Georgiana, you came so\n",
      "nearly perfect from the hand of Nature, that this slightest possible\n",
      "defect -- which we hesitate whether to term a defect or a beauty -shocks\n",
      "me, as being the visible mark of earthly imperfection.”\n",
      "“ Shocks you, my husband !” cried Georgiana, deeply hurt ; at\n",
      "first reddening with momentary anger\n",
      "\n",
      "\n",
      "--------------------------------------------------------------------------------\n",
      "\n",
      "\n",
      "--------------------------------------------------------------------------------\n",
      " the most precious poison that ever was concocted\n",
      "in this world. By its aid, I could apportion the life-time\n",
      "of any mortal at whom you might point your finger. The strength\n",
      "of the dose would determine whether he were to linger out years,\n",
      "or drop dead in the midst of a breath. No king, on his guarded\n",
      "throne, could keep his life, if I, in my private station, should\n",
      "\n",
      "\n",
      "deem that the welfare of million\n",
      "\n",
      "\n",
      "--------------------------------------------------------------------------------\n",
      "\n",
      "\n",
      "--------------------------------------------------------------------------------\n",
      " doubts, and defiled therewith\n",
      "the pure whiteness of Beatrice’s image. Not that he gave\n",
      "her up ; he did but distrust. He resolved to institute some\n",
      "decisive test that should satisfy him, once for all, whether there\n",
      "were those dreadful peculiarities in her physical nature, which\n",
      "could not be supposed to exist without some corresponding\n",
      "monstrosity of soul. His eyes, gazing down afar, might have\n",
      "dec\n",
      "\n",
      "\n",
      "--------------------------------------------------------------------------------\n",
      "\n",
      "\n",
      "--------------------------------------------------------------------------------\n",
      "commodiously by railroad. Still, I grew anxious to\n",
      "be gone. There was one strange tiling that troubled me ; amid\n",
      "the occupations or amusements of the fair, nothing was more\n",
      "common than for a person -- whether at a feast, theatre, or church,\n",
      "or trafficking for wealth and honors, or whatever he might be\n",
      "doing, and however unseasonable the interruption -- suddenly to\n",
      "vanish like a soap-bubble, and be\n",
      "\n",
      "\n",
      "--------------------------------------------------------------------------------\n",
      "\n",
      "\n",
      "--------------------------------------------------------------------------------\n",
      "ugh formerly the sorrow, in\n",
      "which it closes, did not so much impress me. If I had\n",
      "the gift of tale-telling, this one would be sure to interest\n",
      "you mightily.”\n",
      "“ Pray tell it,” said Kenyon ; “ no matter whether well\n",
      "or ill. These wild legends have often the most powerful\n",
      "charm when least artfully told.”\n",
      "So the young count narrated a myth of one of his progenitors,\n",
      "-- he might have lived a century ag\n",
      "\n",
      "\n",
      "--------------------------------------------------------------------------------\n",
      "\n",
      "\n",
      "--------------------------------------------------------------------------------\n",
      "\n",
      "lamp that throws its ray upon the Archangel’s\n",
      "face. She laid her forehead on the marble steps before\n",
      "the altar, and sobbed out a prater ; she hardly knew to\n",
      "сг*лЛ00Г-Л'*Чи £ ,ч J Ý ' ď /<- ÆT\n",
      "\n",
      "\n",
      "whom, whether Michael, the Virgin, or the Father ; she\n",
      "hardly knew for what, save only a vague longing, that\n",
      "thus the burden of her spirit might be lightened a little.\n",
      "In an instant she snatched herself up\n",
      "\n",
      "\n",
      "--------------------------------------------------------------------------------\n",
      "\n",
      "\n",
      "--------------------------------------------------------------------------------\n",
      " little matters where, indeed, since roses are\n",
      "sure to blush along the way, and daisies and violets to\n",
      "spring beneath the feet, if the spoken word be graciously\n",
      "received. He was resolved to make proof whether the\n",
      "kindness, that Hilda evinced for him, was the precious\n",
      "token of an individual preference, or merely the sweet fragrance\n",
      "of her disposition, which other friends might share\n",
      "as largely as h\n",
      "\n",
      "\n",
      "--------------------------------------------------------------------------------\n",
      "\n",
      "\n",
      "--------------------------------------------------------------------------------\n",
      "he reader’s sympathies\n",
      "might be excited to a certain pleasurable degree, without\n",
      "impelling him to ask how Cuvier would have classified\n",
      "poor Donatello, or to insist upon being told, in so many\n",
      "\n",
      "\n",
      "words, whether he had furry ears or no. As respects all\n",
      "who ask such questions, the book is, to that extent, a\n",
      "failure. Nevertheless, the Author fortunately has it in his\n",
      "power to throw light upon several m\n",
      "\n",
      "\n",
      "--------------------------------------------------------------------------------\n",
      "\n",
      "\n",
      "--------------------------------------------------------------------------------\n",
      "at and varied experience, as a scene of human life : the\n",
      "joy of bridal nights had throbbed itself away here ; new\n",
      "immortals had first drawn earthly breath here ; and here old\n",
      "people had died. But  --  whether it were the white roses,\n",
      "or whatever the subtile influence might be  --  a person of\n",
      "delicate instinct would have known, at once, that it was\n",
      "now a maiden’s bed-chamber, and had been purified\n",
      "\n",
      "\n",
      "--------------------------------------------------------------------------------\n",
      "\n",
      "\n",
      "--------------------------------------------------------------------------------\n",
      "imble little titbit, which, with\n",
      "what skill she had, and such materials as were at hand, she\n",
      "might toss up for breakfast.\n",
      "Soon, with a deep sigh, she put aside the savory volume,\n",
      "and inquired of Phœbe whether old Speckle, as she called\n",
      "one of the hens, had laid an egg the preceding day. Phœbe\n",
      "\n",
      "\n",
      "ran to see, but returned without the expected treasure in\n",
      "her hand. At that instant, however, the blast \n",
      "\n",
      "\n",
      "--------------------------------------------------------------------------------\n",
      "\n",
      "\n",
      "--------------------------------------------------------------------------------\n",
      "tently, fancied that the floor creaked, as if Hepzibah\n",
      "were coming, with her ordinary tiptoe movement, to\n",
      "admit her. But so dead a silence ensued upon this imaginary\n",
      "sound, that, she began to question whether she might\n",
      "not have mistaken the house, familiar as she thought herself\n",
      "with its exterior.\n",
      "Her notice was now attracted by a child’s voice, at some\n",
      "distance. It appeared to call her name. Look\n",
      "\n",
      "\n",
      "--------------------------------------------------------------------------------\n",
      "\n",
      "\n",
      "--------------------------------------------------------------------------------\n",
      "e! And your companion\n",
      "there ? Has he as strange a one ? ”\n",
      "“ You must ask the thunder to tell it you ! ” replied\n",
      "Quicksilver, putting on a mysterious look. “No other\n",
      "voice is loud enough.”\n",
      "This remark, whether it Avere serious or in jest, might\n",
      "have caused Philemon to conceive a very great awe of the\n",
      "\n",
      "\n",
      "elder stranger, if, on venturing to gaze at him, he had not\n",
      "beheld so much beneficence in his vis\n",
      "\n",
      "\n",
      "--------------------------------------------------------------------------------\n",
      "\n",
      "\n",
      "--------------------------------------------------------------------------------\n",
      "not far from the Old South Church.\n",
      "Ben ivas a bright boy at his book, and even a brighter\n",
      "one when at play with his comrades. He had some remarkable\n",
      "qualities which always seemed to give him the\n",
      "lead, whether at sport or in more serious matters. I might\n",
      "tell you a number of amusing anecdotes about him. You\n",
      "are acquainted, I suppose, with his famous story of the\n",
      "\n",
      "\n",
      "W insTLE, and how he bought it wit\n",
      "\n",
      "\n",
      "--------------------------------------------------------------------------------\n",
      "\n",
      "\n",
      "--------------------------------------------------------------------------------\n",
      "d of the\n",
      "day ; nor was it so remote from the farm-house as to\n",
      "\n",
      "\n",
      "leave her in much peril, whatever might be the stranger’s\n",
      "character. “ A single word more,” said he ; and his black eyes\n",
      "sparkled at me, whether with fun or malice I knew not,\n",
      "but certainly as if the devil were peeping out of them.\n",
      "“ Among your fraternity, I understand, there is a certain\n",
      "holy and benevolent blacksmith ; a man of iron\n",
      "\n",
      "\n",
      "--------------------------------------------------------------------------------\n",
      "\n",
      "\n",
      "--------------------------------------------------------------------------------\n",
      " the bustling\n",
      "hotel  --  appeared far oflľ and intangible ; the next instant\n",
      "Blithedale looked vague, as if it were at a distance\n",
      "both in time and space, and so shadowy that a question\n",
      "might be raised whether the whole affair had been anything\n",
      "more than the thoughts of a speculative man. I\n",
      "had never before experienced a mood that so robbed the\n",
      "actual world of its solidity. It nevertheless involved\n",
      "\n",
      "\n",
      "--------------------------------------------------------------------------------\n",
      "\n",
      "\n",
      "--------------------------------------------------------------------------------\n",
      " again he fixed his gaze on\n",
      "the aged form, which stood obscurely in an open space,\n",
      "where neither friend nor foe had thrust himself.\n",
      "What were his thoughts, he uttered no word which\n",
      "might discover. But whether the oppressor were overawed\n",
      "by the Gray Champion’s look, or perceived his\n",
      "peril in the threatening attitude of the people, it is certain\n",
      "that he gave back, and ordered his soldiers to\n",
      "commenc\n",
      "\n",
      "\n",
      "--------------------------------------------------------------------------------\n",
      "\n",
      "\n",
      "--------------------------------------------------------------------------------\n",
      "oud smack of satisfaction,\n",
      "declaring it to be infernally good brandy.\n",
      "Well, after this Septimius and he talked ; and I\n",
      "know not how it was, but there was a great deal of\n",
      "imagination in this queer man, whether a bodily or\n",
      "spiritual influence it might be hard to say. On the\n",
      "other hand, Septimius had for a long while held little\n",
      "intercourse with men ; none whatever with men who\n",
      "could comprehend him ;\n",
      "\n",
      "\n",
      "--------------------------------------------------------------------------------\n",
      "\n",
      "\n",
      "--------------------------------------------------------------------------------\n",
      "ot try to follow the conversation\n",
      "among the mysterious hints with which the doctor\n",
      "chose to involve it ; but he now sought to gain some\n",
      "information from him as to the mode of preparing\n",
      "the recipe, and whether he thought it would be most\n",
      "efficacious as a decoction, or as a distillation. The\n",
      "learned chemist supported most decidedly the latter\n",
      "opinion, and showed Septimius how he might make for\n",
      "himse\n",
      "\n",
      "\n",
      "--------------------------------------------------------------------------------\n",
      "\n",
      "\n",
      "--------------------------------------------------------------------------------\n",
      " ; whether there were any memorial\n",
      "of any kind remaining of him, any letters, or written\n",
      "documents, wills, deeds, or other legal papers; in\n",
      "short, all about him.\n",
      "Septimius could not satisfactorily see whether these\n",
      "inquiries were made with any definite purpose, or\n",
      "from a mere general curiosity to discover how a\n",
      "family of early settlement in America might still be\n",
      "linked with the old country; wheth\n",
      "\n",
      "\n",
      "--------------------------------------------------------------------------------\n",
      "\n",
      "\n",
      "--------------------------------------------------------------------------------\n",
      "ly see whether these\n",
      "inquiries were made with any definite purpose, or\n",
      "from a mere general curiosity to discover how a\n",
      "family of early settlement in America might still be\n",
      "linked with the old country; whether there were\n",
      "any tendrils stretching across the gulf of a hundred\n",
      "and fifty years, by which the American branch of\n",
      "the family was separated from the trunk of the family\n",
      "tree in England. The doc\n",
      "\n",
      "\n",
      "--------------------------------------------------------------------------------\n",
      "\n",
      "\n",
      "--------------------------------------------------------------------------------\n",
      "is enthusiasm thus, which\n",
      "otherwise might have burst forth in madness, affrighting\n",
      "the quiet little village with the marvellous things\n",
      "about which they mused. Septimius could not quite\n",
      "satisfy himself whether Sybil Dacy shared in his\n",
      "belief of the success of his experiment, and was confident,\n",
      "as he was, that he held in his control the means\n",
      "of unlimited life ; neither was he sure that she loved\n",
      "\n",
      "\n",
      "\n",
      "\n",
      "\n",
      "--------------------------------------------------------------------------------\n",
      "\n",
      "\n",
      "--------------------------------------------------------------------------------\n",
      "it were, streamed forth from\n",
      "the mystic symbol, subtly communicating itself to my\n",
      "sensibilities, but evading the analysis of my mind.\n",
      "While thus perplexed,  --  and cogitating, among other\n",
      "hypotheses, whether the letter might not have been one\n",
      "of those decorations which the white men used to con-^\n",
      "trive, in order to take the eyes of Indians,  --  I happened\n",
      "to place it on my breast. It seemed to m\n",
      "\n",
      "\n",
      "--------------------------------------------------------------------------------\n",
      "\n",
      "\n",
      "--------------------------------------------------------------------------------\n",
      "nkind may meet,\n",
      "rather than confine himself to those narrow paths\n",
      "where brethren of the same household must diverge\n",
      "from one another,  --  had sometimes made it questionable\n",
      "with his brother Democrats whether he was a\n",
      "friend. Now, after he had won the crown of martyrdom,\n",
      "(though with no longer a head to wear it on,) the\n",
      "point might be looked upon as settled. Finally, little\n",
      "heroic as he was, it se\n",
      "\n",
      "\n",
      "--------------------------------------------------------------------------------\n",
      "\n",
      "\n",
      "--------------------------------------------------------------------------------\n",
      " and\n",
      "\n",
      "\n",
      "upright rulers, and in hearing of all the people, as\n",
      "touching the vileness and blackness of your sin. Knowing\n",
      "your natural temper better than I, he could the\n",
      "better judge what arguments to use, whether of tenderness\n",
      "or terror, such as might prevail over your hardness\n",
      "and obstinacy ; insomuch that you should no longer\n",
      "hide the name of him who tempted you to this grievous\n",
      "fall. But he opposes\n",
      "\n",
      "\n",
      "--------------------------------------------------------------------------------\n",
      "\n",
      "\n",
      "--------------------------------------------------------------------------------\n",
      "imately compelled\n",
      "to stand aside, and permit the child to be swayed\n",
      "by her own impulses. Physical compulsion or restraint\n",
      "was effectual, of course, while it lasted. As to any\n",
      "other kind of discipline, whether addressed to her mind\n",
      "or heart, little Pearl might or might not be within its\n",
      "reach, in accordance with the caprice that ruled the\n",
      "moment. Her mother, while Pearl was yet an infant,\n",
      "\n",
      "\n",
      "grew ac\n",
      "\n",
      "\n",
      "--------------------------------------------------------------------------------\n",
      "\n",
      "\n",
      "--------------------------------------------------------------------------------\n",
      "ng\n",
      "them, one by one, at her mother’s bosom ; dancing\n",
      "up and down, like a little elf, whenever she hit the\n",
      "scarlet letter. Hester’s first motion had been to cover\n",
      "her bosom with her clasped hands. But, whether from\n",
      "pride or resignation, or a feeling that her penance might\n",
      "best be wrought out by this unutterable pain, she resisted\n",
      "the impulse, and sat erect, pale as death, looking\n",
      "sadly into little \n",
      "\n",
      "\n",
      "--------------------------------------------------------------------------------\n",
      "\n",
      "\n",
      "--------------------------------------------------------------------------------\n",
      " ? ” asked Hester.\n",
      "Nor did she put the question altogether idly, but, for\n",
      "the moment, with a portion of genuine earnestness ; for,\n",
      "such was Pearl’s wonderful intelligence, that her mother\n",
      "half doubted whether she were not acquainted with\n",
      "the secret spell of her existence, and might not now reveal\n",
      "herself.\n",
      "“ Yes ; I am little Pearl ! ” repeated the child, continuing\n",
      "her antics.\n",
      "44 Thou art not my c\n",
      "\n",
      "\n",
      "--------------------------------------------------------------------------------\n",
      "\n",
      "\n",
      "--------------------------------------------------------------------------------\n",
      " was\n",
      "his custom whenever his peculiarly nervous temperament\n",
      "was thrown into agitation. He looked now more\n",
      "careworn and emaciated than as we described him at\n",
      "the scene of Hester’s public ignominy ; and whether it\n",
      "were his failing health, or whatever the cause might be,\n",
      "his large dark eyes had a world of pain in their troubled\n",
      "and melancholy depth.\n",
      "“ There is truth in what she says,” began the minis\n",
      "\n",
      "\n",
      "--------------------------------------------------------------------------------\n",
      "\n",
      "\n",
      "--------------------------------------------------------------------------------\n",
      "is perhaps the truest theory.\n",
      "She who has once been woman, and ceased to\n",
      "be so, might at any moment become a woman again,\n",
      "if there were only the magic touch to effect the transfiguration.\n",
      "We shall see whether Hester Prynne were\n",
      "ever afterwards so touched, and so transfigured.\n",
      "Much of the marble coldness of Hester’s impression\n",
      "was to be attributed to the circumstance that her life\n",
      "had turned, in a \n",
      "\n",
      "\n",
      "--------------------------------------------------------------------------------\n",
      "\n",
      "\n",
      "--------------------------------------------------------------------------------\n",
      "r ago than yester-eve, a magistrate,\n",
      "a wise and godly man, was discoursing of your\n",
      "affairs, Mistress Hester, and whispered me that there\n",
      "had been question concerning you in the council. It\n",
      "was debated whether or no, with safety to the common\n",
      "weal, yonder scarlet letter might be taken off your\n",
      "bosom. On my life, Hester, I made my entreaty to the\n",
      "worshipful magistrate that it might be done forthwith\n",
      "\n",
      "\n",
      "--------------------------------------------------------------------------------\n",
      "\n",
      "\n",
      "--------------------------------------------------------------------------------\n",
      "d mission.\n",
      "Hester had often fancied that Providence had a\n",
      "design of justice and retribution, in endowing the child\n",
      "with this marked propensity ; but never, until now, had\n",
      "she bethought hersqlf to ask, whether, linked with that\n",
      "design, there might not likewise be a purpose of mercy\n",
      "and beneficence. If little Pearl were entertained with\n",
      "faith and trust, as a spirit-messenger no less than an\n",
      "earthly \n",
      "\n",
      "\n",
      "--------------------------------------------------------------------------------\n",
      "\n",
      "\n",
      "--------------------------------------------------------------------------------\n",
      "ng himself down at the root\n",
      "of the nearest tree, and lie there passive for evermore.\n",
      "The leaves might bestrew him, and the soil gradually\n",
      "accumulate and form a little hillock over his frame, no\n",
      "matter whether there were life in it or no. Death was\n",
      "too definite an object to be wished for, or avoided.\n",
      "To Hester’s eye, the Reverend Mr. Dimmesdale exhibited\n",
      "no symptom of positive and vivacious sufferi\n",
      "\n",
      "\n",
      "--------------------------------------------------------------------------------\n",
      "\n",
      "\n",
      "--------------------------------------------------------------------------------\n",
      " sensitive temperament\n",
      "was invigorated by the loud and piercing music, that\n",
      "swelled heavenward, and uplifted him on its ascending\n",
      "wave. Nevertheless, so abstracted was his look, it\n",
      "might be questioned whether Mr. Dimmesdale even\n",
      "heard the music. There was his body, moving onward,\n",
      "and with an unaccustomed force. But where\n",
      "was his mind? Far and deep in its own region, busy-\n",
      "\n",
      "\n",
      "ing itself, with preter\n",
      "\n",
      "\n",
      "--------------------------------------------------------------------------------\n",
      "\n",
      "\n",
      "--------------------------------------------------------------------------------\n",
      "was fiddler,\n",
      "\n",
      "\n",
      "and, it might be, an Indian powwow or a Lapland wizard\n",
      "changing hands with us ! That is but a trifle, when a\n",
      "woman knows the world. But this minister ! Couldst\n",
      "thou surely tell, Hester, whether he w r as the same man\n",
      "that encountered thee on the forest-path ! ”\n",
      "u Madam, I know not of what you speak,” answered\n",
      "Hester Prynne, feeling Mistress Hibbins to be of infirm\n",
      "mind ; yet strange\n",
      "\n",
      "\n",
      "--------------------------------------------------------------------------------\n",
      "\n",
      "\n",
      "--------------------------------------------------------------------------------\n",
      "his old volume. Now, would you\n",
      "deem it possible that this rose of half a century\n",
      "could ever bloom again? ”\n",
      "“Nonsense!” said the Widow Wycherlý,\n",
      "with a peevish toss of her head. “ You might\n",
      "as well ask whether an old woman’s wrinkled\n",
      "face could ever bloom again.”\n",
      "“ See! ” answered Dr. Heidegger.\n",
      "7\n",
      "\n",
      "\n",
      "He uncovered the vase, and threw the faded\n",
      "rose into the water which it contained. At\n",
      "first, it lay \n",
      "\n",
      "\n",
      "--------------------------------------------------------------------------------\n",
      "\n",
      "\n",
      "--------------------------------------------------------------------------------\n",
      " the\n",
      "most precious poison that ever was concocted\n",
      "\n",
      "\n",
      "in this world. By its aid I could apportion\n",
      "the lifetime of any mortal at whom you\n",
      "might point your finger. The strength of the\n",
      "dose would determine whether he were to\n",
      "linger out years, or drop dead in the midst of\n",
      "a breath. No king on his guarded throne\n",
      "could keep his life if I, in my private station,\n",
      "should deem that the welfare of millions jus\n",
      "\n",
      "\n",
      "--------------------------------------------------------------------------------\n",
      "\n",
      "\n",
      "--------------------------------------------------------------------------------\n",
      " again he\n",
      "fixed his gaze on the aged form, which stood\n",
      "obscurely in an open space, where neither\n",
      "friend nor foe had thrust himself. What\n",
      "were his thoughts, he uttered no word which\n",
      "might discover. But whether the oppressor\n",
      "were overawed by the Gray Champion’s look,\n",
      "or perceived his peril in the threatening attitude\n",
      "of the people, it is certain that he gave\n",
      "back, and ordered his soldiers to commenc\n",
      "\n",
      "\n",
      "--------------------------------------------------------------------------------\n",
      "\n",
      "\n",
      "--------------------------------------------------------------------------------\n",
      " and\n",
      "\n",
      "\n",
      "upright rulers, and in hearing of all the people, as\n",
      "touching the vileness and blackness of your sin. Knowing\n",
      "your natural temper better than I, he could the\n",
      "better judge what arguments to use, whether of tenderness\n",
      "or terror, such as might prevail over your hardness\n",
      "and obstinacy ; insomuch that you should no longer\n",
      "hide the name of him who tempted you to this grievous\n",
      "fall. But he opposes\n",
      "\n",
      "\n",
      "--------------------------------------------------------------------------------\n",
      "\n",
      "\n",
      "--------------------------------------------------------------------------------\n",
      "imately compelled\n",
      "to stand aside, and permit the child to be swayed\n",
      "by her own impulses. Physical compulsion or restraint\n",
      "was effectual, of course, while it lasted. As to any\n",
      "other kind of discipline, whether addressed to her mind\n",
      "or heart, little Pearl might or might not be within its\n",
      "reach, in accordance with the caprice that ruled the\n",
      "moment. Her mother, while Pearl was yet an infant, ’\n",
      "\n",
      "\n",
      "grew \n",
      "\n",
      "\n",
      "--------------------------------------------------------------------------------\n",
      "\n",
      "\n",
      "--------------------------------------------------------------------------------\n",
      "ng\n",
      "them, one by one, at her mother’s bosom ; dancing\n",
      "up and down, like a little elf, whenever she hit the\n",
      "scarlet letter. Hester’s first motion had been to cover\n",
      "her bosom with her clasped hands. But, whether from\n",
      "pride or resignation, or a feeling that her penance might\n",
      "best be wrought out by this unutterable pain, she resisted\n",
      "the impulse, and sat erect, pale as death, looking\n",
      "sadly into little \n",
      "\n",
      "\n",
      "--------------------------------------------------------------------------------\n",
      "\n",
      "\n",
      "--------------------------------------------------------------------------------\n",
      " ? ” asked Hester.\n",
      "Nor did she put the question altogether idly, but, for\n",
      "the moment, with a portion of genuine earnestness ; for,\n",
      "such was Pearl’s wonderful intelligence, that her mother\n",
      "half doubted whether she were not acquainted with\n",
      "the secret spell of her existence, and might not now reveal\n",
      "herself.\n",
      "“ Yes ; I am little Pearl ! ” repeated the child, continuing\n",
      "her antics.\n",
      "“ Thou art not my ch\n",
      "\n",
      "\n",
      "--------------------------------------------------------------------------------\n",
      "\n",
      "\n",
      "--------------------------------------------------------------------------------\n",
      " was\n",
      "his custom whenever his peculiarly nervous temperament\n",
      "was thrown into agitation. He looked now more\n",
      "careworn and emaciated than as we described him at\n",
      "the scene of Hester’s public ignominy ; and whether it\n",
      "were his failing health, or whatever the cause might be,\n",
      "his large dark eyes had a world of pain in their troubled\n",
      "and melancholy depth.\n",
      "“ There is truth in what she says,” began the minis\n",
      "\n",
      "\n",
      "--------------------------------------------------------------------------------\n",
      "\n",
      "\n",
      "--------------------------------------------------------------------------------\n",
      "is perhaps the truest theory.\n",
      "She who has once been woman, and ceased to\n",
      "be so, might at any moment become a woman again,\n",
      "if there were only the magic touch to effect the transfiguration.\n",
      "We shall see whether Hester Prynne were\n",
      "ever afterwards so touched, and so transfigured.\n",
      "Much of the marble coldness of Hester’s impression\n",
      "was to be attributed to the circumstance, that her life\n",
      "had turned, in a\n",
      "\n",
      "\n",
      "--------------------------------------------------------------------------------\n",
      "\n",
      "\n",
      "--------------------------------------------------------------------------------\n",
      "r ago than yester-eve, a magistrate,\n",
      "a wise and godly man, was discoursing of your\n",
      "aifairs, Mistress Hest#r, and whispered me that there\n",
      "had been question concerning you in the council. It\n",
      "was debated whether or no, with safety to the common\n",
      "weal, yonder scarlet letter might be taken off your\n",
      "bosom. On my life, Hester, I made my entreaty to the\n",
      "worshipful magistrate that it might be done forthwith\n",
      "\n",
      "\n",
      "--------------------------------------------------------------------------------\n",
      "\n",
      "\n",
      "--------------------------------------------------------------------------------\n",
      "d mission.\n",
      "Hester had often fancied that Providence had a\n",
      "design of justice and retribution, in endowing the child\n",
      "with this marked propensity ; but never, until now, had\n",
      "she bethought herself to ask, whether, linked with that\n",
      "design, there might not likewise be a purpose of mercy\n",
      "and beneficence. If little Pearl were entertained with\n",
      "faith and trust, as a spirit-messenger no less than an\n",
      "earthly \n",
      "\n",
      "\n",
      "--------------------------------------------------------------------------------\n",
      "\n",
      "\n",
      "--------------------------------------------------------------------------------\n",
      "ng himself down at the root\n",
      "of the nearest tree, and lie there passive for evermore.\n",
      "The leaves might bestrew him, and the soil gradually\n",
      "accumulate and form a little hillock over his frame, no\n",
      "matter whether there were life in it or no. Death was\n",
      "too definite an object to be wished for, or avoided.\n",
      "To Hester’s eye, the Reverend Mr. Dimmesdale exhibited\n",
      "no symptom of positive and vivacious sufferi\n",
      "\n",
      "\n",
      "--------------------------------------------------------------------------------\n",
      "\n",
      "\n",
      "--------------------------------------------------------------------------------\n",
      " sensitive temperament\n",
      "was invigorated by the loud and piercing music, that\n",
      "swelled heavenward, and uplifted him on its ascending\n",
      "wave. Nevertheless, so abstracted was his look, it\n",
      "might be questioned whether Mr. Dimmesdale even\n",
      "heard the music. There was his body, moving onward,\n",
      "and with an unaccustomed force. But where\n",
      "was his mind ? Far and deep in its own region, busy-\n",
      "\n",
      "\n",
      "ing itself, with prete\n",
      "\n",
      "\n",
      "--------------------------------------------------------------------------------\n",
      "\n",
      "\n",
      "--------------------------------------------------------------------------------\n",
      "was fiddler,\n",
      "\n",
      "\n",
      "and, it might be, an Indian powwow or a Lapland wizard\n",
      "changing hands with us ! That is but a trifle, when a\n",
      "woman knows the world. But this minister ! Couldst\n",
      "thou surely tell, Hester, whether he was the same man\n",
      "that encountered thee on the forest-path ! ”\n",
      "“ Madam, I know not of what you speak,” answered\n",
      "Hester Prynne, feeling Mistress Hibbins to be of infirm\n",
      "mind ; yet strangely \n",
      "\n",
      "\n",
      "--------------------------------------------------------------------------------\n",
      "\n",
      "\n",
      "--------------------------------------------------------------------------------\n",
      "gain he fixed\n",
      "his gaze on the aged form, which stood obscurely in\n",
      "an open space, where neither friend nor foe had thrust\n",
      "himself. What were his thoughts, he uttered no word\n",
      "\n",
      "\n",
      "which might discover. But whether the oppressor\n",
      "were overawed by the Gray Champion’s look, or perceived\n",
      "his peril in the threatening attitude of the people,\n",
      "it is certain that he gave back, and ordered his\n",
      "soldiers to commenc\n",
      "\n",
      "\n",
      "--------------------------------------------------------------------------------\n",
      "\n",
      "\n",
      "--------------------------------------------------------------------------------\n",
      "ritual mystery and\n",
      "experience, of which sacred architecture, pictured win-\n",
      "\n",
      "\n",
      "imperfect symbols. All was well, so long as their lamps\n",
      "were freshly kindled at the heavenly flame. After a\n",
      "while, however, whether in their time or their children’s,\n",
      "these lamps began to bum more dimly, or with a less\n",
      "genuine lustre ; and then it might be seen how hard,\n",
      "cold and confined, was their system,  --  how like \n",
      "\n",
      "\n",
      "--------------------------------------------------------------------------------\n",
      "\n",
      "\n",
      "--------------------------------------------------------------------------------\n",
      "s repulsive personage\n",
      "seemed to hare been carved in the same gray stone that\n",
      "\n",
      "\n",
      "formed die walls and portal of the cave. On minuter\n",
      "inspection, indeed, such blemishes were observed, as\n",
      "made it doubtful whether the figure were really a\n",
      "statue, chiselled by human art, and somewhat worn and\n",
      "defaced by the lapee of ages, or ą freak of Nature, who\n",
      "might have chosen to imitate, in stone, her usual handiw\n",
      "\n",
      "\n",
      "--------------------------------------------------------------------------------\n"
     ]
    },
    {
     "data": {
      "text/plain": [
       "[(331550, 331950),\n",
       " (358875, 359275),\n",
       " (373482, 373882),\n",
       " (392460, 392860),\n",
       " (430850, 431250),\n",
       " (449392, 449792),\n",
       " (449706, 450106),\n",
       " (796791, 797191),\n",
       " (824102, 824502),\n",
       " (824149, 824549),\n",
       " (857809, 858209),\n",
       " (896156, 896556),\n",
       " (914711, 915111),\n",
       " (1268813, 1269213),\n",
       " (1376669, 1377069),\n",
       " (1451812, 1452212),\n",
       " (1472955, 1473355),\n",
       " (1546893, 1547293),\n",
       " (1673762, 1674162),\n",
       " (1789009, 1789409),\n",
       " (1898341, 1898741),\n",
       " (1929848, 1930248),\n",
       " (1969596, 1969996),\n",
       " (2007683, 2008083),\n",
       " (2025559, 2025959),\n",
       " (2025643, 2026043),\n",
       " (2057084, 2057484),\n",
       " (2108553, 2108953),\n",
       " (2127564, 2127964),\n",
       " (2261340, 2261740),\n",
       " (2284653, 2285053),\n",
       " (2410426, 2410826),\n",
       " (2505763, 2506163),\n",
       " (2557480, 2557880),\n",
       " (2576563, 2576963),\n",
       " (2707145, 2707545),\n",
       " (2856599, 2856999),\n",
       " (2919043, 2919443),\n",
       " (3111828, 3112228),\n",
       " (3185786, 3186186),\n",
       " (3305823, 3306223),\n",
       " (3517124, 3517524),\n",
       " (3564664, 3565064),\n",
       " (3947470, 3947870),\n",
       " (4006730, 4007130),\n",
       " (4107802, 4108202),\n",
       " (4309445, 4309845),\n",
       " (4403137, 4403537),\n",
       " (4599427, 4599827),\n",
       " (5118553, 5118953),\n",
       " (5224104, 5224504),\n",
       " (5231356, 5231756),\n",
       " (5231550, 5231950),\n",
       " (5300151, 5300551),\n",
       " (5429534, 5429934),\n",
       " (5452109, 5452509),\n",
       " (5491600, 5492000),\n",
       " (5538855, 5539255),\n",
       " (5550146, 5550546),\n",
       " (5551320, 5551720),\n",
       " (5579242, 5579642),\n",
       " (5673768, 5674168),\n",
       " (5682360, 5682760),\n",
       " (5703803, 5704203),\n",
       " (5718720, 5719120),\n",
       " (5811004, 5811404),\n",
       " (5816142, 5816542),\n",
       " (5863804, 5864204),\n",
       " (5901102, 5901502),\n",
       " (6078437, 6078837),\n",
       " (6555235, 6555635),\n",
       " (6602505, 6602905),\n",
       " (6613802, 6614202),\n",
       " (6614975, 6615375),\n",
       " (6642867, 6643267),\n",
       " (6737402, 6737802),\n",
       " (6745995, 6746395),\n",
       " (6767444, 6767844),\n",
       " (6782392, 6782792),\n",
       " (6874675, 6875075),\n",
       " (6879816, 6880216),\n",
       " (6936094, 6936494),\n",
       " (7668378, 7668778),\n",
       " (7875886, 7876286)]"
      ]
     },
     "execution_count": 885,
     "metadata": {},
     "output_type": "execute_result"
    }
   ],
   "source": [
    "print_co_occs('whether', 'might', text)"
   ]
  },
  {
   "cell_type": "markdown",
   "metadata": {},
   "source": [
    "# Plotting vectors"
   ]
  },
  {
   "cell_type": "code",
   "execution_count": 450,
   "metadata": {},
   "outputs": [],
   "source": [
    "%matplotlib inline"
   ]
  },
  {
   "cell_type": "code",
   "execution_count": 473,
   "metadata": {},
   "outputs": [],
   "source": [
    "def get_top_n_words(words, vectors, n = 10):\n",
    "    '''\n",
    "    Generates list of deduped words common to elements in list words.\n",
    "    '''\n",
    "    if not type(words) == list:\n",
    "        words = [words]\n",
    "    \n",
    "    l = []\n",
    "    for word in words:\n",
    "        l.extend([x[0] for x in vectors.most_similar(word, topn = n)])\n",
    "    \n",
    "    l.extend(words)\n",
    "    \n",
    "    return list(set(l))"
   ]
  },
  {
   "cell_type": "code",
   "execution_count": 491,
   "metadata": {},
   "outputs": [],
   "source": [
    "test = get_top_n_words(['day','night'], vectors, n = 20)"
   ]
  },
  {
   "cell_type": "code",
   "execution_count": 494,
   "metadata": {},
   "outputs": [],
   "source": [
    "# plotting PCA\n",
    "import numpy as np\n",
    "import matplotlib.pyplot as plt\n",
    "plt.style.use('ggplot')\n",
    "from sklearn.decomposition import PCA\n",
    "from gensim.test.utils import datapath, get_tmpfile\n",
    "from gensim.models import KeyedVectors\n",
    "from gensim.scripts.glove2word2vec import glove2word2vec\n",
    "\n",
    "\n",
    "def display_pca_scatterplot(model, words, sample=0):\n",
    "    \n",
    "    word_vectors = np.array([model[w] for w in words])\n",
    "\n",
    "    twodim = PCA().fit_transform(word_vectors)[:,:2]\n",
    "    \n",
    "    plt.figure(figsize=(12,12))\n",
    "    plt.scatter(twodim[:,0], twodim[:,1], edgecolors='k', c='b')\n",
    "    # TODO add way to colorize target words\n",
    "    for word, (x,y) in zip(words, twodim):\n",
    "        plt.text(x+0.01, y+0.01, word)"
   ]
  },
  {
   "cell_type": "code",
   "execution_count": 493,
   "metadata": {},
   "outputs": [
    {
     "data": {
      "image/png": "[encoded data removed]",
      "text/plain": [
       "<Figure size 864x864 with 1 Axes>"
      ]
     },
     "metadata": {},
     "output_type": "display_data"
    }
   ],
   "source": [
    "display_pca_scatterplot(vectors, words = test)"
   ]
  },
  {
   "cell_type": "code",
   "execution_count": 511,
   "metadata": {},
   "outputs": [],
   "source": [
    "import plotly\n",
    "import numpy as np\n",
    "import plotly.graph_objs as go\n",
    "from sklearn.manifold import TSNE\n",
    "\n",
    "def display_tsne_scatterplot_3D(model, user_input=None, words=None, label=None, color_map=None, perplexity = 1, learning_rate = 1, iteration = 500, topn=5, sample=10):\n",
    "\n",
    "    if words == None:\n",
    "        if sample > 0:\n",
    "            words = np.random.choice(list(model.vocab.keys()), sample)\n",
    "        else:\n",
    "            words = [ word for word in model.vocab ]\n",
    "    \n",
    "    word_vectors = np.array([model[w] for w in words])\n",
    "    \n",
    "    three_dim = TSNE(n_components = 2, random_state=0, perplexity = perplexity, learning_rate = learning_rate, n_iter = iteration).fit_transform(word_vectors)[:,:2]\n",
    "\n",
    "\n",
    "    # For 2D, change the three_dim variable into something like two_dim like the following:\n",
    "    # two_dim = TSNE(n_components = 2, random_state=0, perplexity = perplexity, learning_rate = learning_rate, n_iter = iteration).fit_transform(word_vectors)[:,:2]\n",
    "\n",
    "    data = []\n",
    "\n",
    "\n",
    "    count = 0\n",
    "    for i in range (len(user_input)):\n",
    "\n",
    "                trace = go.Scatter(\n",
    "                    x = three_dim[count:count+topn,0], \n",
    "                    y = three_dim[count:count+topn,1],  \n",
    "#                    z = three_dim[count:count+topn,2],\n",
    "                    text = words[count:count+topn],\n",
    "                    name = user_input[i],\n",
    "                    textposition = \"top center\",\n",
    "                    textfont_size = 20,\n",
    "                    mode = 'markers+text',\n",
    "                    marker = {\n",
    "                        'size': 10,\n",
    "                        'opacity': 0.8,\n",
    "                        'color': 2\n",
    "                    }\n",
    "       \n",
    "                )\n",
    "                \n",
    "                # For 2D, instead of using go.Scatter3d, we need to use go.Scatter and delete the z variable. Also, instead of using\n",
    "                # variable three_dim, use the variable that we have declared earlier (e.g two_dim)\n",
    "            \n",
    "                data.append(trace)\n",
    "                count = count+topn\n",
    "\n",
    "    trace_input = go.Scatter(\n",
    "                    x = three_dim[count:,0], \n",
    "                    y = three_dim[count:,1],  \n",
    "#                    z = three_dim[count:,2],\n",
    "                    text = words[count:],\n",
    "                    name = 'input words',\n",
    "                    textposition = \"top center\",\n",
    "                    textfont_size = 20,\n",
    "                    mode = 'markers+text',\n",
    "                    marker = {\n",
    "                        'size': 10,\n",
    "                        'opacity': 1,\n",
    "                        'color': 'black'\n",
    "                    }\n",
    "                    )\n",
    "\n",
    "    # For 2D, instead of using go.Scatter3d, we need to use go.Scatter and delete the z variable.  Also, instead of using\n",
    "    # variable three_dim, use the variable that we have declared earlier (e.g two_dim)\n",
    "            \n",
    "    data.append(trace_input)\n",
    "    \n",
    "# Configure the layout\n",
    "\n",
    "    layout = go.Layout(\n",
    "        margin = {'l': 0, 'r': 0, 'b': 0, 't': 0},\n",
    "        showlegend=True,\n",
    "        legend=dict(\n",
    "        x=1,\n",
    "        y=0.5,\n",
    "        font=dict(\n",
    "            family=\"Courier New\",\n",
    "            size=25,\n",
    "            color=\"black\"\n",
    "        )),\n",
    "        font = dict(\n",
    "            family = \" Courier New \",\n",
    "            size = 15),\n",
    "        autosize = False,\n",
    "        width = 1000,\n",
    "        height = 1000\n",
    "        )\n",
    "\n",
    "\n",
    "    plot_figure = go.Figure(data = data, layout = layout)\n",
    "    plot_figure.show()"
   ]
  },
  {
   "cell_type": "code",
   "execution_count": 512,
   "metadata": {},
   "outputs": [
    {
     "data": {
      "application/vnd.plotly.v1+json": {
       "config": {
        "plotlyServerURL": "https://plot.ly"
       },
       "data": [
        {
         "marker": {
          "color": 2,
          "opacity": 0.8,
          "size": 10
         },
         "mode": "markers+text",
         "name": "coffee",
         "text": [
          "alacrity",
          "appeal",
          "genial",
          "stirred",
          "rejected"
         ],
         "textfont": {
          "size": 20
         },
         "textposition": "top center",
         "type": "scatter",
         "x": [
          1.3387454748153687,
          4.345399379730225,
          -0.4750857651233673,
          10.63841724395752,
          -13.56041431427002
         ],
         "y": [
          -9.304461479187012,
          1.1175143718719482,
          -2.1427993774414062,
          0.3229513168334961,
          6.201965808868408
         ]
        },
        {
         "marker": {
          "color": 2,
          "opacity": 0.8,
          "size": 10
         },
         "mode": "markers+text",
         "name": "tea",
         "text": [
          "arrested",
          "how",
          "compassion",
          "maxwell",
          "purchased"
         ],
         "textfont": {
          "size": 20
         },
         "textposition": "top center",
         "type": "scatter",
         "x": [
          -13.50451946258545,
          -0.5011196136474609,
          6.299966812133789,
          6.058205604553223,
          -13.521212577819824
         ],
         "y": [
          10.06899642944336,
          -12.932764053344727,
          -0.5574151873588562,
          -6.411792755126953,
          3.1082372665405273
         ]
        },
        {
         "marker": {
          "color": "black",
          "opacity": 1,
          "size": 10
         },
         "mode": "markers+text",
         "name": "input words",
         "text": [],
         "textfont": {
          "size": 20
         },
         "textposition": "top center",
         "type": "scatter",
         "x": [],
         "y": []
        }
       ],
       "layout": {
        "autosize": false,
        "font": {
         "family": " Courier New ",
         "size": 15
        },
        "height": 1000,
        "legend": {
         "font": {
          "color": "black",
          "family": "Courier New",
          "size": 25
         },
         "x": 1,
         "y": 0.5
        },
        "margin": {
         "b": 0,
         "l": 0,
         "r": 0,
         "t": 0
        },
        "showlegend": true,
        "template": {
         "data": {
          "bar": [
           {
            "error_x": {
             "color": "#2a3f5f"
            },
            "error_y": {
             "color": "#2a3f5f"
            },
            "marker": {
             "line": {
              "color": "#E5ECF6",
              "width": 0.5
             }
            },
            "type": "bar"
           }
          ],
          "barpolar": [
           {
            "marker": {
             "line": {
              "color": "#E5ECF6",
              "width": 0.5
             }
            },
            "type": "barpolar"
           }
          ],
          "carpet": [
           {
            "aaxis": {
             "endlinecolor": "#2a3f5f",
             "gridcolor": "white",
             "linecolor": "white",
             "minorgridcolor": "white",
             "startlinecolor": "#2a3f5f"
            },
            "baxis": {
             "endlinecolor": "#2a3f5f",
             "gridcolor": "white",
             "linecolor": "white",
             "minorgridcolor": "white",
             "startlinecolor": "#2a3f5f"
            },
            "type": "carpet"
           }
          ],
          "choropleth": [
           {
            "colorbar": {
             "outlinewidth": 0,
             "ticks": ""
            },
            "type": "choropleth"
           }
          ],
          "contour": [
           {
            "colorbar": {
             "outlinewidth": 0,
             "ticks": ""
            },
            "colorscale": [
             [
              0,
              "#0d0887"
             ],
             [
              0.1111111111111111,
              "#46039f"
             ],
             [
              0.2222222222222222,
              "#7201a8"
             ],
             [
              0.3333333333333333,
              "#9c179e"
             ],
             [
              0.4444444444444444,
              "#bd3786"
             ],
             [
              0.5555555555555556,
              "#d8576b"
             ],
             [
              0.6666666666666666,
              "#ed7953"
             ],
             [
              0.7777777777777778,
              "#fb9f3a"
             ],
             [
              0.8888888888888888,
              "#fdca26"
             ],
             [
              1,
              "#f0f921"
             ]
            ],
            "type": "contour"
           }
          ],
          "contourcarpet": [
           {
            "colorbar": {
             "outlinewidth": 0,
             "ticks": ""
            },
            "type": "contourcarpet"
           }
          ],
          "heatmap": [
           {
            "colorbar": {
             "outlinewidth": 0,
             "ticks": ""
            },
            "colorscale": [
             [
              0,
              "#0d0887"
             ],
             [
              0.1111111111111111,
              "#46039f"
             ],
             [
              0.2222222222222222,
              "#7201a8"
             ],
             [
              0.3333333333333333,
              "#9c179e"
             ],
             [
              0.4444444444444444,
              "#bd3786"
             ],
             [
              0.5555555555555556,
              "#d8576b"
             ],
             [
              0.6666666666666666,
              "#ed7953"
             ],
             [
              0.7777777777777778,
              "#fb9f3a"
             ],
             [
              0.8888888888888888,
              "#fdca26"
             ],
             [
              1,
              "#f0f921"
             ]
            ],
            "type": "heatmap"
           }
          ],
          "heatmapgl": [
           {
            "colorbar": {
             "outlinewidth": 0,
             "ticks": ""
            },
            "colorscale": [
             [
              0,
              "#0d0887"
             ],
             [
              0.1111111111111111,
              "#46039f"
             ],
             [
              0.2222222222222222,
              "#7201a8"
             ],
             [
              0.3333333333333333,
              "#9c179e"
             ],
             [
              0.4444444444444444,
              "#bd3786"
             ],
             [
              0.5555555555555556,
              "#d8576b"
             ],
             [
              0.6666666666666666,
              "#ed7953"
             ],
             [
              0.7777777777777778,
              "#fb9f3a"
             ],
             [
              0.8888888888888888,
              "#fdca26"
             ],
             [
              1,
              "#f0f921"
             ]
            ],
            "type": "heatmapgl"
           }
          ],
          "histogram": [
           {
            "marker": {
             "colorbar": {
              "outlinewidth": 0,
              "ticks": ""
             }
            },
            "type": "histogram"
           }
          ],
          "histogram2d": [
           {
            "colorbar": {
             "outlinewidth": 0,
             "ticks": ""
            },
            "colorscale": [
             [
              0,
              "#0d0887"
             ],
             [
              0.1111111111111111,
              "#46039f"
             ],
             [
              0.2222222222222222,
              "#7201a8"
             ],
             [
              0.3333333333333333,
              "#9c179e"
             ],
             [
              0.4444444444444444,
              "#bd3786"
             ],
             [
              0.5555555555555556,
              "#d8576b"
             ],
             [
              0.6666666666666666,
              "#ed7953"
             ],
             [
              0.7777777777777778,
              "#fb9f3a"
             ],
             [
              0.8888888888888888,
              "#fdca26"
             ],
             [
              1,
              "#f0f921"
             ]
            ],
            "type": "histogram2d"
           }
          ],
          "histogram2dcontour": [
           {
            "colorbar": {
             "outlinewidth": 0,
             "ticks": ""
            },
            "colorscale": [
             [
              0,
              "#0d0887"
             ],
             [
              0.1111111111111111,
              "#46039f"
             ],
             [
              0.2222222222222222,
              "#7201a8"
             ],
             [
              0.3333333333333333,
              "#9c179e"
             ],
             [
              0.4444444444444444,
              "#bd3786"
             ],
             [
              0.5555555555555556,
              "#d8576b"
             ],
             [
              0.6666666666666666,
              "#ed7953"
             ],
             [
              0.7777777777777778,
              "#fb9f3a"
             ],
             [
              0.8888888888888888,
              "#fdca26"
             ],
             [
              1,
              "#f0f921"
             ]
            ],
            "type": "histogram2dcontour"
           }
          ],
          "mesh3d": [
           {
            "colorbar": {
             "outlinewidth": 0,
             "ticks": ""
            },
            "type": "mesh3d"
           }
          ],
          "parcoords": [
           {
            "line": {
             "colorbar": {
              "outlinewidth": 0,
              "ticks": ""
             }
            },
            "type": "parcoords"
           }
          ],
          "pie": [
           {
            "automargin": true,
            "type": "pie"
           }
          ],
          "scatter": [
           {
            "marker": {
             "colorbar": {
              "outlinewidth": 0,
              "ticks": ""
             }
            },
            "type": "scatter"
           }
          ],
          "scatter3d": [
           {
            "line": {
             "colorbar": {
              "outlinewidth": 0,
              "ticks": ""
             }
            },
            "marker": {
             "colorbar": {
              "outlinewidth": 0,
              "ticks": ""
             }
            },
            "type": "scatter3d"
           }
          ],
          "scattercarpet": [
           {
            "marker": {
             "colorbar": {
              "outlinewidth": 0,
              "ticks": ""
             }
            },
            "type": "scattercarpet"
           }
          ],
          "scattergeo": [
           {
            "marker": {
             "colorbar": {
              "outlinewidth": 0,
              "ticks": ""
             }
            },
            "type": "scattergeo"
           }
          ],
          "scattergl": [
           {
            "marker": {
             "colorbar": {
              "outlinewidth": 0,
              "ticks": ""
             }
            },
            "type": "scattergl"
           }
          ],
          "scattermapbox": [
           {
            "marker": {
             "colorbar": {
              "outlinewidth": 0,
              "ticks": ""
             }
            },
            "type": "scattermapbox"
           }
          ],
          "scatterpolar": [
           {
            "marker": {
             "colorbar": {
              "outlinewidth": 0,
              "ticks": ""
             }
            },
            "type": "scatterpolar"
           }
          ],
          "scatterpolargl": [
           {
            "marker": {
             "colorbar": {
              "outlinewidth": 0,
              "ticks": ""
             }
            },
            "type": "scatterpolargl"
           }
          ],
          "scatterternary": [
           {
            "marker": {
             "colorbar": {
              "outlinewidth": 0,
              "ticks": ""
             }
            },
            "type": "scatterternary"
           }
          ],
          "surface": [
           {
            "colorbar": {
             "outlinewidth": 0,
             "ticks": ""
            },
            "colorscale": [
             [
              0,
              "#0d0887"
             ],
             [
              0.1111111111111111,
              "#46039f"
             ],
             [
              0.2222222222222222,
              "#7201a8"
             ],
             [
              0.3333333333333333,
              "#9c179e"
             ],
             [
              0.4444444444444444,
              "#bd3786"
             ],
             [
              0.5555555555555556,
              "#d8576b"
             ],
             [
              0.6666666666666666,
              "#ed7953"
             ],
             [
              0.7777777777777778,
              "#fb9f3a"
             ],
             [
              0.8888888888888888,
              "#fdca26"
             ],
             [
              1,
              "#f0f921"
             ]
            ],
            "type": "surface"
           }
          ],
          "table": [
           {
            "cells": {
             "fill": {
              "color": "#EBF0F8"
             },
             "line": {
              "color": "white"
             }
            },
            "header": {
             "fill": {
              "color": "#C8D4E3"
             },
             "line": {
              "color": "white"
             }
            },
            "type": "table"
           }
          ]
         },
         "layout": {
          "annotationdefaults": {
           "arrowcolor": "#2a3f5f",
           "arrowhead": 0,
           "arrowwidth": 1
          },
          "coloraxis": {
           "colorbar": {
            "outlinewidth": 0,
            "ticks": ""
           }
          },
          "colorscale": {
           "diverging": [
            [
             0,
             "#8e0152"
            ],
            [
             0.1,
             "#c51b7d"
            ],
            [
             0.2,
             "#de77ae"
            ],
            [
             0.3,
             "#f1b6da"
            ],
            [
             0.4,
             "#fde0ef"
            ],
            [
             0.5,
             "#f7f7f7"
            ],
            [
             0.6,
             "#e6f5d0"
            ],
            [
             0.7,
             "#b8e186"
            ],
            [
             0.8,
             "#7fbc41"
            ],
            [
             0.9,
             "#4d9221"
            ],
            [
             1,
             "#276419"
            ]
           ],
           "sequential": [
            [
             0,
             "#0d0887"
            ],
            [
             0.1111111111111111,
             "#46039f"
            ],
            [
             0.2222222222222222,
             "#7201a8"
            ],
            [
             0.3333333333333333,
             "#9c179e"
            ],
            [
             0.4444444444444444,
             "#bd3786"
            ],
            [
             0.5555555555555556,
             "#d8576b"
            ],
            [
             0.6666666666666666,
             "#ed7953"
            ],
            [
             0.7777777777777778,
             "#fb9f3a"
            ],
            [
             0.8888888888888888,
             "#fdca26"
            ],
            [
             1,
             "#f0f921"
            ]
           ],
           "sequentialminus": [
            [
             0,
             "#0d0887"
            ],
            [
             0.1111111111111111,
             "#46039f"
            ],
            [
             0.2222222222222222,
             "#7201a8"
            ],
            [
             0.3333333333333333,
             "#9c179e"
            ],
            [
             0.4444444444444444,
             "#bd3786"
            ],
            [
             0.5555555555555556,
             "#d8576b"
            ],
            [
             0.6666666666666666,
             "#ed7953"
            ],
            [
             0.7777777777777778,
             "#fb9f3a"
            ],
            [
             0.8888888888888888,
             "#fdca26"
            ],
            [
             1,
             "#f0f921"
            ]
           ]
          },
          "colorway": [
           "#636efa",
           "#EF553B",
           "#00cc96",
           "#ab63fa",
           "#FFA15A",
           "#19d3f3",
           "#FF6692",
           "#B6E880",
           "#FF97FF",
           "#FECB52"
          ],
          "font": {
           "color": "#2a3f5f"
          },
          "geo": {
           "bgcolor": "white",
           "lakecolor": "white",
           "landcolor": "#E5ECF6",
           "showlakes": true,
           "showland": true,
           "subunitcolor": "white"
          },
          "hoverlabel": {
           "align": "left"
          },
          "hovermode": "closest",
          "mapbox": {
           "style": "light"
          },
          "paper_bgcolor": "white",
          "plot_bgcolor": "#E5ECF6",
          "polar": {
           "angularaxis": {
            "gridcolor": "white",
            "linecolor": "white",
            "ticks": ""
           },
           "bgcolor": "#E5ECF6",
           "radialaxis": {
            "gridcolor": "white",
            "linecolor": "white",
            "ticks": ""
           }
          },
          "scene": {
           "xaxis": {
            "backgroundcolor": "#E5ECF6",
            "gridcolor": "white",
            "gridwidth": 2,
            "linecolor": "white",
            "showbackground": true,
            "ticks": "",
            "zerolinecolor": "white"
           },
           "yaxis": {
            "backgroundcolor": "#E5ECF6",
            "gridcolor": "white",
            "gridwidth": 2,
            "linecolor": "white",
            "showbackground": true,
            "ticks": "",
            "zerolinecolor": "white"
           },
           "zaxis": {
            "backgroundcolor": "#E5ECF6",
            "gridcolor": "white",
            "gridwidth": 2,
            "linecolor": "white",
            "showbackground": true,
            "ticks": "",
            "zerolinecolor": "white"
           }
          },
          "shapedefaults": {
           "line": {
            "color": "#2a3f5f"
           }
          },
          "ternary": {
           "aaxis": {
            "gridcolor": "white",
            "linecolor": "white",
            "ticks": ""
           },
           "baxis": {
            "gridcolor": "white",
            "linecolor": "white",
            "ticks": ""
           },
           "bgcolor": "#E5ECF6",
           "caxis": {
            "gridcolor": "white",
            "linecolor": "white",
            "ticks": ""
           }
          },
          "title": {
           "x": 0.05
          },
          "xaxis": {
           "automargin": true,
           "gridcolor": "white",
           "linecolor": "white",
           "ticks": "",
           "title": {
            "standoff": 15
           },
           "zerolinecolor": "white",
           "zerolinewidth": 2
          },
          "yaxis": {
           "automargin": true,
           "gridcolor": "white",
           "linecolor": "white",
           "ticks": "",
           "title": {
            "standoff": 15
           },
           "zerolinecolor": "white",
           "zerolinewidth": 2
          }
         }
        },
        "width": 1000
       }
      },
      "text/html": [
       "<div>                            <div id=\"8808d28f-eaad-47d3-8d1f-42044e0281d9\" class=\"plotly-graph-div\" style=\"height:1000px; width:1000px;\"></div>            <script type=\"text/javascript\">                require([\"plotly\"], function(Plotly) {                    window.PLOTLYENV=window.PLOTLYENV || {};                                    if (document.getElementById(\"8808d28f-eaad-47d3-8d1f-42044e0281d9\")) {                    Plotly.newPlot(                        \"8808d28f-eaad-47d3-8d1f-42044e0281d9\",                        [{\"marker\": {\"color\": 2, \"opacity\": 0.8, \"size\": 10}, \"mode\": \"markers+text\", \"name\": \"coffee\", \"text\": [\"alacrity\", \"appeal\", \"genial\", \"stirred\", \"rejected\"], \"textfont\": {\"size\": 20}, \"textposition\": \"top center\", \"type\": \"scatter\", \"x\": [1.3387454748153687, 4.345399379730225, -0.4750857651233673, 10.63841724395752, -13.56041431427002], \"y\": [-9.304461479187012, 1.1175143718719482, -2.1427993774414062, 0.3229513168334961, 6.201965808868408]}, {\"marker\": {\"color\": 2, \"opacity\": 0.8, \"size\": 10}, \"mode\": \"markers+text\", \"name\": \"tea\", \"text\": [\"arrested\", \"how\", \"compassion\", \"maxwell\", \"purchased\"], \"textfont\": {\"size\": 20}, \"textposition\": \"top center\", \"type\": \"scatter\", \"x\": [-13.50451946258545, -0.5011196136474609, 6.299966812133789, 6.058205604553223, -13.521212577819824], \"y\": [10.06899642944336, -12.932764053344727, -0.5574151873588562, -6.411792755126953, 3.1082372665405273]}, {\"marker\": {\"color\": \"black\", \"opacity\": 1, \"size\": 10}, \"mode\": \"markers+text\", \"name\": \"input words\", \"text\": [], \"textfont\": {\"size\": 20}, \"textposition\": \"top center\", \"type\": \"scatter\", \"x\": [], \"y\": []}],                        {\"autosize\": false, \"font\": {\"family\": \" Courier New \", \"size\": 15}, \"height\": 1000, \"legend\": {\"font\": {\"color\": \"black\", \"family\": \"Courier New\", \"size\": 25}, \"x\": 1, \"y\": 0.5}, \"margin\": {\"b\": 0, \"l\": 0, \"r\": 0, \"t\": 0}, \"showlegend\": true, \"template\": {\"data\": {\"bar\": [{\"error_x\": {\"color\": \"#2a3f5f\"}, \"error_y\": {\"color\": \"#2a3f5f\"}, \"marker\": {\"line\": {\"color\": \"#E5ECF6\", \"width\": 0.5}}, \"type\": \"bar\"}], \"barpolar\": [{\"marker\": {\"line\": {\"color\": \"#E5ECF6\", \"width\": 0.5}}, \"type\": \"barpolar\"}], \"carpet\": [{\"aaxis\": {\"endlinecolor\": \"#2a3f5f\", \"gridcolor\": \"white\", \"linecolor\": \"white\", \"minorgridcolor\": \"white\", \"startlinecolor\": \"#2a3f5f\"}, \"baxis\": {\"endlinecolor\": \"#2a3f5f\", \"gridcolor\": \"white\", \"linecolor\": \"white\", \"minorgridcolor\": \"white\", \"startlinecolor\": \"#2a3f5f\"}, \"type\": \"carpet\"}], \"choropleth\": [{\"colorbar\": {\"outlinewidth\": 0, \"ticks\": \"\"}, \"type\": \"choropleth\"}], \"contour\": [{\"colorbar\": {\"outlinewidth\": 0, \"ticks\": \"\"}, \"colorscale\": [[0.0, \"#0d0887\"], [0.1111111111111111, \"#46039f\"], [0.2222222222222222, \"#7201a8\"], [0.3333333333333333, \"#9c179e\"], [0.4444444444444444, \"#bd3786\"], [0.5555555555555556, \"#d8576b\"], [0.6666666666666666, \"#ed7953\"], [0.7777777777777778, \"#fb9f3a\"], [0.8888888888888888, \"#fdca26\"], [1.0, \"#f0f921\"]], \"type\": \"contour\"}], \"contourcarpet\": [{\"colorbar\": {\"outlinewidth\": 0, \"ticks\": \"\"}, \"type\": \"contourcarpet\"}], \"heatmap\": [{\"colorbar\": {\"outlinewidth\": 0, \"ticks\": \"\"}, \"colorscale\": [[0.0, \"#0d0887\"], [0.1111111111111111, \"#46039f\"], [0.2222222222222222, \"#7201a8\"], [0.3333333333333333, \"#9c179e\"], [0.4444444444444444, \"#bd3786\"], [0.5555555555555556, \"#d8576b\"], [0.6666666666666666, \"#ed7953\"], [0.7777777777777778, \"#fb9f3a\"], [0.8888888888888888, \"#fdca26\"], [1.0, \"#f0f921\"]], \"type\": \"heatmap\"}], \"heatmapgl\": [{\"colorbar\": {\"outlinewidth\": 0, \"ticks\": \"\"}, \"colorscale\": [[0.0, \"#0d0887\"], [0.1111111111111111, \"#46039f\"], [0.2222222222222222, \"#7201a8\"], [0.3333333333333333, \"#9c179e\"], [0.4444444444444444, \"#bd3786\"], [0.5555555555555556, \"#d8576b\"], [0.6666666666666666, \"#ed7953\"], [0.7777777777777778, \"#fb9f3a\"], [0.8888888888888888, \"#fdca26\"], [1.0, \"#f0f921\"]], \"type\": \"heatmapgl\"}], \"histogram\": [{\"marker\": {\"colorbar\": {\"outlinewidth\": 0, \"ticks\": \"\"}}, \"type\": \"histogram\"}], \"histogram2d\": [{\"colorbar\": {\"outlinewidth\": 0, \"ticks\": \"\"}, \"colorscale\": [[0.0, \"#0d0887\"], [0.1111111111111111, \"#46039f\"], [0.2222222222222222, \"#7201a8\"], [0.3333333333333333, \"#9c179e\"], [0.4444444444444444, \"#bd3786\"], [0.5555555555555556, \"#d8576b\"], [0.6666666666666666, \"#ed7953\"], [0.7777777777777778, \"#fb9f3a\"], [0.8888888888888888, \"#fdca26\"], [1.0, \"#f0f921\"]], \"type\": \"histogram2d\"}], \"histogram2dcontour\": [{\"colorbar\": {\"outlinewidth\": 0, \"ticks\": \"\"}, \"colorscale\": [[0.0, \"#0d0887\"], [0.1111111111111111, \"#46039f\"], [0.2222222222222222, \"#7201a8\"], [0.3333333333333333, \"#9c179e\"], [0.4444444444444444, \"#bd3786\"], [0.5555555555555556, \"#d8576b\"], [0.6666666666666666, \"#ed7953\"], [0.7777777777777778, \"#fb9f3a\"], [0.8888888888888888, \"#fdca26\"], [1.0, \"#f0f921\"]], \"type\": \"histogram2dcontour\"}], \"mesh3d\": [{\"colorbar\": {\"outlinewidth\": 0, \"ticks\": \"\"}, \"type\": \"mesh3d\"}], \"parcoords\": [{\"line\": {\"colorbar\": {\"outlinewidth\": 0, \"ticks\": \"\"}}, \"type\": \"parcoords\"}], \"pie\": [{\"automargin\": true, \"type\": \"pie\"}], \"scatter\": [{\"marker\": {\"colorbar\": {\"outlinewidth\": 0, \"ticks\": \"\"}}, \"type\": \"scatter\"}], \"scatter3d\": [{\"line\": {\"colorbar\": {\"outlinewidth\": 0, \"ticks\": \"\"}}, \"marker\": {\"colorbar\": {\"outlinewidth\": 0, \"ticks\": \"\"}}, \"type\": \"scatter3d\"}], \"scattercarpet\": [{\"marker\": {\"colorbar\": {\"outlinewidth\": 0, \"ticks\": \"\"}}, \"type\": \"scattercarpet\"}], \"scattergeo\": [{\"marker\": {\"colorbar\": {\"outlinewidth\": 0, \"ticks\": \"\"}}, \"type\": \"scattergeo\"}], \"scattergl\": [{\"marker\": {\"colorbar\": {\"outlinewidth\": 0, \"ticks\": \"\"}}, \"type\": \"scattergl\"}], \"scattermapbox\": [{\"marker\": {\"colorbar\": {\"outlinewidth\": 0, \"ticks\": \"\"}}, \"type\": \"scattermapbox\"}], \"scatterpolar\": [{\"marker\": {\"colorbar\": {\"outlinewidth\": 0, \"ticks\": \"\"}}, \"type\": \"scatterpolar\"}], \"scatterpolargl\": [{\"marker\": {\"colorbar\": {\"outlinewidth\": 0, \"ticks\": \"\"}}, \"type\": \"scatterpolargl\"}], \"scatterternary\": [{\"marker\": {\"colorbar\": {\"outlinewidth\": 0, \"ticks\": \"\"}}, \"type\": \"scatterternary\"}], \"surface\": [{\"colorbar\": {\"outlinewidth\": 0, \"ticks\": \"\"}, \"colorscale\": [[0.0, \"#0d0887\"], [0.1111111111111111, \"#46039f\"], [0.2222222222222222, \"#7201a8\"], [0.3333333333333333, \"#9c179e\"], [0.4444444444444444, \"#bd3786\"], [0.5555555555555556, \"#d8576b\"], [0.6666666666666666, \"#ed7953\"], [0.7777777777777778, \"#fb9f3a\"], [0.8888888888888888, \"#fdca26\"], [1.0, \"#f0f921\"]], \"type\": \"surface\"}], \"table\": [{\"cells\": {\"fill\": {\"color\": \"#EBF0F8\"}, \"line\": {\"color\": \"white\"}}, \"header\": {\"fill\": {\"color\": \"#C8D4E3\"}, \"line\": {\"color\": \"white\"}}, \"type\": \"table\"}]}, \"layout\": {\"annotationdefaults\": {\"arrowcolor\": \"#2a3f5f\", \"arrowhead\": 0, \"arrowwidth\": 1}, \"coloraxis\": {\"colorbar\": {\"outlinewidth\": 0, \"ticks\": \"\"}}, \"colorscale\": {\"diverging\": [[0, \"#8e0152\"], [0.1, \"#c51b7d\"], [0.2, \"#de77ae\"], [0.3, \"#f1b6da\"], [0.4, \"#fde0ef\"], [0.5, \"#f7f7f7\"], [0.6, \"#e6f5d0\"], [0.7, \"#b8e186\"], [0.8, \"#7fbc41\"], [0.9, \"#4d9221\"], [1, \"#276419\"]], \"sequential\": [[0.0, \"#0d0887\"], [0.1111111111111111, \"#46039f\"], [0.2222222222222222, \"#7201a8\"], [0.3333333333333333, \"#9c179e\"], [0.4444444444444444, \"#bd3786\"], [0.5555555555555556, \"#d8576b\"], [0.6666666666666666, \"#ed7953\"], [0.7777777777777778, \"#fb9f3a\"], [0.8888888888888888, \"#fdca26\"], [1.0, \"#f0f921\"]], \"sequentialminus\": [[0.0, \"#0d0887\"], [0.1111111111111111, \"#46039f\"], [0.2222222222222222, \"#7201a8\"], [0.3333333333333333, \"#9c179e\"], [0.4444444444444444, \"#bd3786\"], [0.5555555555555556, \"#d8576b\"], [0.6666666666666666, \"#ed7953\"], [0.7777777777777778, \"#fb9f3a\"], [0.8888888888888888, \"#fdca26\"], [1.0, \"#f0f921\"]]}, \"colorway\": [\"#636efa\", \"#EF553B\", \"#00cc96\", \"#ab63fa\", \"#FFA15A\", \"#19d3f3\", \"#FF6692\", \"#B6E880\", \"#FF97FF\", \"#FECB52\"], \"font\": {\"color\": \"#2a3f5f\"}, \"geo\": {\"bgcolor\": \"white\", \"lakecolor\": \"white\", \"landcolor\": \"#E5ECF6\", \"showlakes\": true, \"showland\": true, \"subunitcolor\": \"white\"}, \"hoverlabel\": {\"align\": \"left\"}, \"hovermode\": \"closest\", \"mapbox\": {\"style\": \"light\"}, \"paper_bgcolor\": \"white\", \"plot_bgcolor\": \"#E5ECF6\", \"polar\": {\"angularaxis\": {\"gridcolor\": \"white\", \"linecolor\": \"white\", \"ticks\": \"\"}, \"bgcolor\": \"#E5ECF6\", \"radialaxis\": {\"gridcolor\": \"white\", \"linecolor\": \"white\", \"ticks\": \"\"}}, \"scene\": {\"xaxis\": {\"backgroundcolor\": \"#E5ECF6\", \"gridcolor\": \"white\", \"gridwidth\": 2, \"linecolor\": \"white\", \"showbackground\": true, \"ticks\": \"\", \"zerolinecolor\": \"white\"}, \"yaxis\": {\"backgroundcolor\": \"#E5ECF6\", \"gridcolor\": \"white\", \"gridwidth\": 2, \"linecolor\": \"white\", \"showbackground\": true, \"ticks\": \"\", \"zerolinecolor\": \"white\"}, \"zaxis\": {\"backgroundcolor\": \"#E5ECF6\", \"gridcolor\": \"white\", \"gridwidth\": 2, \"linecolor\": \"white\", \"showbackground\": true, \"ticks\": \"\", \"zerolinecolor\": \"white\"}}, \"shapedefaults\": {\"line\": {\"color\": \"#2a3f5f\"}}, \"ternary\": {\"aaxis\": {\"gridcolor\": \"white\", \"linecolor\": \"white\", \"ticks\": \"\"}, \"baxis\": {\"gridcolor\": \"white\", \"linecolor\": \"white\", \"ticks\": \"\"}, \"bgcolor\": \"#E5ECF6\", \"caxis\": {\"gridcolor\": \"white\", \"linecolor\": \"white\", \"ticks\": \"\"}}, \"title\": {\"x\": 0.05}, \"xaxis\": {\"automargin\": true, \"gridcolor\": \"white\", \"linecolor\": \"white\", \"ticks\": \"\", \"title\": {\"standoff\": 15}, \"zerolinecolor\": \"white\", \"zerolinewidth\": 2}, \"yaxis\": {\"automargin\": true, \"gridcolor\": \"white\", \"linecolor\": \"white\", \"ticks\": \"\", \"title\": {\"standoff\": 15}, \"zerolinecolor\": \"white\", \"zerolinewidth\": 2}}}, \"width\": 1000},                        {\"responsive\": true}                    ).then(function(){\n",
       "                            \n",
       "var gd = document.getElementById('8808d28f-eaad-47d3-8d1f-42044e0281d9');\n",
       "var x = new MutationObserver(function (mutations, observer) {{\n",
       "        var display = window.getComputedStyle(gd).display;\n",
       "        if (!display || display === 'none') {{\n",
       "            console.log([gd, 'removed!']);\n",
       "            Plotly.purge(gd);\n",
       "            observer.disconnect();\n",
       "        }}\n",
       "}});\n",
       "\n",
       "// Listen for the removal of the full notebook cells\n",
       "var notebookContainer = gd.closest('#notebook-container');\n",
       "if (notebookContainer) {{\n",
       "    x.observe(notebookContainer, {childList: true});\n",
       "}}\n",
       "\n",
       "// Listen for the clearing of the current output cell\n",
       "var outputEl = gd.closest('.output');\n",
       "if (outputEl) {{\n",
       "    x.observe(outputEl, {childList: true});\n",
       "}}\n",
       "\n",
       "                        })                };                });            </script>        </div>"
      ]
     },
     "metadata": {},
     "output_type": "display_data"
    }
   ],
   "source": [
    "display_tsne_scatterplot_3D(vectors, user_input = ['coffee', 'tea'])"
   ]
  },
  {
   "cell_type": "code",
   "execution_count": null,
   "metadata": {},
   "outputs": [],
   "source": []
  }
 ],
 "metadata": {
  "kernelspec": {
   "display_name": "Python 3",
   "language": "python",
   "name": "python3"
  },
  "language_info": {
   "codemirror_mode": {
    "name": "ipython",
    "version": 3
   },
   "file_extension": ".py",
   "mimetype": "text/x-python",
   "name": "python",
   "nbconvert_exporter": "python",
   "pygments_lexer": "ipython3",
   "version": "3.8.3"
  }
 },
 "nbformat": 4,
 "nbformat_minor": 4
}
