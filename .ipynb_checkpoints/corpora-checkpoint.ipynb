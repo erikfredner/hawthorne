{
 "cells": [
  {
   "cell_type": "markdown",
   "metadata": {},
   "source": [
    "# Corpora\n",
    "This notebook demonstrates how the Hawthorne corpora were generated from the [Gale corpus of American Fiction](https://www.gale.com/c/american-fiction-1774-1920), and provides summary statistics about the corpora."
   ]
  },
  {
   "cell_type": "code",
   "execution_count": 1,
   "metadata": {},
   "outputs": [],
   "source": [
    "import pandas as pd"
   ]
  },
  {
   "cell_type": "code",
   "execution_count": 9,
   "metadata": {},
   "outputs": [],
   "source": [
    "gale_path = '/Users/e/Documents/Corpora/Gale/txt'"
   ]
  },
  {
   "cell_type": "code",
   "execution_count": 14,
   "metadata": {},
   "outputs": [],
   "source": [
    "meta_path = '/Users/e/Documents/Corpora/Gale/metadata.csv'"
   ]
  },
  {
   "cell_type": "code",
   "execution_count": 15,
   "metadata": {},
   "outputs": [],
   "source": [
    "meta = pd.read_csv(meta_path, low_memory = False) # low_memory because mixed dtypes"
   ]
  },
  {
   "cell_type": "code",
   "execution_count": 30,
   "metadata": {},
   "outputs": [
    {
     "data": {
      "text/html": [
       "<div>\n",
       "<style scoped>\n",
       "    .dataframe tbody tr th:only-of-type {\n",
       "        vertical-align: middle;\n",
       "    }\n",
       "\n",
       "    .dataframe tbody tr th {\n",
       "        vertical-align: top;\n",
       "    }\n",
       "\n",
       "    .dataframe thead th {\n",
       "        text-align: right;\n",
       "    }\n",
       "</style>\n",
       "<table border=\"1\" class=\"dataframe\">\n",
       "  <thead>\n",
       "    <tr style=\"text-align: right;\">\n",
       "      <th></th>\n",
       "      <th>filename</th>\n",
       "      <th>year</th>\n",
       "      <th>author</th>\n",
       "      <th>author_birth_date</th>\n",
       "      <th>author_death_date</th>\n",
       "      <th>full_title</th>\n",
       "      <th>publication_place_city</th>\n",
       "      <th>total_pages</th>\n",
       "      <th>ocr_accuracy</th>\n",
       "      <th>valid_words</th>\n",
       "      <th>decade</th>\n",
       "    </tr>\n",
       "  </thead>\n",
       "  <tbody>\n",
       "    <tr>\n",
       "      <th>0</th>\n",
       "      <td>AMFCF0002-C00000-B0014500.txt</td>\n",
       "      <td>1849</td>\n",
       "      <td>Curtis, Newton Mallory</td>\n",
       "      <td>NaN</td>\n",
       "      <td>NaN</td>\n",
       "      <td>The Patrol of the Mountain: A Tale of the Revo...</td>\n",
       "      <td>New York</td>\n",
       "      <td>112.0</td>\n",
       "      <td>0.904358</td>\n",
       "      <td>64450</td>\n",
       "      <td>1840</td>\n",
       "    </tr>\n",
       "    <tr>\n",
       "      <th>1</th>\n",
       "      <td>AMFCF0002-C00000-B0781700.txt</td>\n",
       "      <td>1886</td>\n",
       "      <td>Dromgoole, William Allen, Miss.</td>\n",
       "      <td>NaN</td>\n",
       "      <td>NaN</td>\n",
       "      <td>The Sunny Side of the Cumberland: A Story of t...</td>\n",
       "      <td>Philadelphia</td>\n",
       "      <td>438.0</td>\n",
       "      <td>0.914261</td>\n",
       "      <td>119077</td>\n",
       "      <td>1880</td>\n",
       "    </tr>\n",
       "  </tbody>\n",
       "</table>\n",
       "</div>"
      ],
      "text/plain": [
       "                        filename  year                           author  \\\n",
       "0  AMFCF0002-C00000-B0014500.txt  1849           Curtis, Newton Mallory   \n",
       "1  AMFCF0002-C00000-B0781700.txt  1886  Dromgoole, William Allen, Miss.   \n",
       "\n",
       "  author_birth_date author_death_date  \\\n",
       "0               NaN               NaN   \n",
       "1               NaN               NaN   \n",
       "\n",
       "                                          full_title publication_place_city  \\\n",
       "0  The Patrol of the Mountain: A Tale of the Revo...               New York   \n",
       "1  The Sunny Side of the Cumberland: A Story of t...           Philadelphia   \n",
       "\n",
       "   total_pages  ocr_accuracy  valid_words  decade  \n",
       "0        112.0      0.904358        64450    1840  \n",
       "1        438.0      0.914261       119077    1880  "
      ]
     },
     "execution_count": 30,
     "metadata": {},
     "output_type": "execute_result"
    }
   ],
   "source": [
    "meta[:2] # example of what metadata looks like"
   ]
  },
  {
   "cell_type": "markdown",
   "metadata": {},
   "source": [
    "Date range of texts in Gale:"
   ]
  },
  {
   "cell_type": "code",
   "execution_count": 31,
   "metadata": {},
   "outputs": [
    {
     "data": {
      "text/plain": [
       "count    18150.000000\n",
       "mean      1887.492837\n",
       "std         25.129007\n",
       "min       1785.000000\n",
       "25%       1872.000000\n",
       "50%       1895.000000\n",
       "75%       1906.000000\n",
       "max       1920.000000\n",
       "Name: year, dtype: float64"
      ]
     },
     "execution_count": 31,
     "metadata": {},
     "output_type": "execute_result"
    }
   ],
   "source": [
    "meta['year'].describe()"
   ]
  },
  {
   "cell_type": "markdown",
   "metadata": {},
   "source": [
    "Total words contained in Gale calculated below. Note that `valid_words` is calculated by tokenizing the source text, and validating results against OED dictionary of about 3.5M words. As a result, `valid_words` excludes non-dictionary words and errors."
   ]
  },
  {
   "cell_type": "code",
   "execution_count": 24,
   "metadata": {},
   "outputs": [
    {
     "data": {
      "text/plain": [
       "1175772600"
      ]
     },
     "execution_count": 24,
     "metadata": {},
     "output_type": "execute_result"
    }
   ],
   "source": [
    "meta['valid_words'].sum()"
   ]
  },
  {
   "cell_type": "markdown",
   "metadata": {},
   "source": [
    "And the number of unique authors in Gale:"
   ]
  },
  {
   "cell_type": "code",
   "execution_count": 91,
   "metadata": {},
   "outputs": [
    {
     "data": {
      "text/plain": [
       "8580"
      ]
     },
     "execution_count": 91,
     "metadata": {},
     "output_type": "execute_result"
    }
   ],
   "source": [
    "len(meta['author'].unique())"
   ]
  },
  {
   "cell_type": "markdown",
   "metadata": {},
   "source": [
    "# Subsetting Gale\n",
    "Here, we subset Gale for Hawthorne's writing life (1828's *Fanshawe* to his death in 1864) to capture contemporaneous publication:"
   ]
  },
  {
   "cell_type": "code",
   "execution_count": 60,
   "metadata": {},
   "outputs": [],
   "source": [
    "sub = meta[meta['year'].between(1828, 1864)]"
   ]
  },
  {
   "cell_type": "code",
   "execution_count": 61,
   "metadata": {},
   "outputs": [
    {
     "data": {
      "text/plain": [
       "3349"
      ]
     },
     "execution_count": 61,
     "metadata": {},
     "output_type": "execute_result"
    }
   ],
   "source": [
    "len(sub) # number of works in subset"
   ]
  },
  {
   "cell_type": "code",
   "execution_count": 62,
   "metadata": {},
   "outputs": [
    {
     "data": {
      "text/plain": [
       "215186977"
      ]
     },
     "execution_count": 62,
     "metadata": {},
     "output_type": "execute_result"
    }
   ],
   "source": [
    "sub['valid_words'].sum() # number of words"
   ]
  },
  {
   "cell_type": "markdown",
   "metadata": {},
   "source": [
    "Results are slightly different if we count from *Twice Told Tales* (1837):"
   ]
  },
  {
   "cell_type": "code",
   "execution_count": 63,
   "metadata": {},
   "outputs": [],
   "source": [
    "sub2 = meta[meta['year'].between(1837, 1864)]"
   ]
  },
  {
   "cell_type": "code",
   "execution_count": 64,
   "metadata": {},
   "outputs": [
    {
     "data": {
      "text/plain": [
       "2980"
      ]
     },
     "execution_count": 64,
     "metadata": {},
     "output_type": "execute_result"
    }
   ],
   "source": [
    "len(sub2) # number of works in subset"
   ]
  },
  {
   "cell_type": "code",
   "execution_count": 65,
   "metadata": {},
   "outputs": [
    {
     "data": {
      "text/plain": [
       "196460034"
      ]
     },
     "execution_count": 65,
     "metadata": {},
     "output_type": "execute_result"
    }
   ],
   "source": [
    "sub2['valid_words'].sum() # number of words"
   ]
  },
  {
   "cell_type": "markdown",
   "metadata": {},
   "source": [
    "# Finding Hawthorne\n",
    "`nh` collects all of the works by Hawthorne in Gale:"
   ]
  },
  {
   "cell_type": "code",
   "execution_count": 100,
   "metadata": {},
   "outputs": [],
   "source": [
    "nh = sub[sub['author'].str.contains('Hawthorne, Nathaniel', na = False)]"
   ]
  },
  {
   "cell_type": "code",
   "execution_count": 101,
   "metadata": {},
   "outputs": [
    {
     "data": {
      "text/plain": [
       "1120788"
      ]
     },
     "execution_count": 101,
     "metadata": {},
     "output_type": "execute_result"
    }
   ],
   "source": [
    "nh['valid_words'].sum() # Hawthorne words in corpus"
   ]
  },
  {
   "cell_type": "markdown",
   "metadata": {},
   "source": [
    "Hawthorne's words as a percentage of the corpus:"
   ]
  },
  {
   "cell_type": "code",
   "execution_count": 102,
   "metadata": {},
   "outputs": [],
   "source": [
    "pct = nh['valid_words'].sum() / sub['valid_words'].sum()"
   ]
  },
  {
   "cell_type": "code",
   "execution_count": 109,
   "metadata": {},
   "outputs": [
    {
     "name": "stdout",
     "output_type": "stream",
     "text": [
      "0.521%\n"
     ]
    }
   ],
   "source": [
    "print('{}%'.format(round(pct * 100, 3)))"
   ]
  },
  {
   "cell_type": "markdown",
   "metadata": {},
   "source": [
    "Comparing the words in Gale against the [Library of America Hawthorne](https://loa.org/writers/257-nathaniel-hawthorne) (we do not have digital access to the Ohio editions):"
   ]
  },
  {
   "cell_type": "code",
   "execution_count": 49,
   "metadata": {},
   "outputs": [],
   "source": [
    "loa = '/Users/e/code/hawthorne/local/loa_nh/loa_hawthorne_all.txt'"
   ]
  },
  {
   "cell_type": "code",
   "execution_count": 51,
   "metadata": {},
   "outputs": [
    {
     "data": {
      "text/plain": [
       "984400"
      ]
     },
     "execution_count": 51,
     "metadata": {},
     "output_type": "execute_result"
    }
   ],
   "source": [
    "with open(loa) as f:\n",
    "    text = f.read()\n",
    "    words = [x for x in text.split(' ') if x] # split words by spaces; don't count blanks\n",
    "len(words)"
   ]
  },
  {
   "cell_type": "markdown",
   "metadata": {},
   "source": [
    "As we can see from the differences between these numbers, there exists in Gale a small amount  of internal duplication of Hawthorne's work as compared to the LoA (plus or minus any editorial inclusions or exclusions from the LoA not present in Gale's editions of Hawthorne's work)."
   ]
  },
  {
   "cell_type": "markdown",
   "metadata": {},
   "source": [
    "# Creating corpora\n",
    "First, the 1828-1864 corpus, inclusive:\n",
    "\n",
    "- Revise into function"
   ]
  },
  {
   "cell_type": "code",
   "execution_count": 55,
   "metadata": {},
   "outputs": [],
   "source": [
    "import os\n",
    "from shutil import copyfile"
   ]
  },
  {
   "cell_type": "code",
   "execution_count": 71,
   "metadata": {},
   "outputs": [],
   "source": [
    "to_path = 'local/corpus'"
   ]
  },
  {
   "cell_type": "code",
   "execution_count": 73,
   "metadata": {},
   "outputs": [],
   "source": [
    "if not os.path.exists(to_path):\n",
    "    os.mkdir(to_path)"
   ]
  },
  {
   "cell_type": "code",
   "execution_count": 74,
   "metadata": {},
   "outputs": [],
   "source": [
    "texts = sub['filename']"
   ]
  },
  {
   "cell_type": "code",
   "execution_count": 75,
   "metadata": {},
   "outputs": [
    {
     "data": {
      "text/plain": [
       "'AMFCF0002-C00000-B0014500.txt'"
      ]
     },
     "execution_count": 75,
     "metadata": {},
     "output_type": "execute_result"
    }
   ],
   "source": [
    "texts[0]"
   ]
  },
  {
   "cell_type": "code",
   "execution_count": 76,
   "metadata": {},
   "outputs": [],
   "source": [
    "for text in texts:\n",
    "    f_from = os.path.join(gale_path, text)\n",
    "    f_to = os.path.join(to_path, text)\n",
    "    copyfile(f_from, f_to)"
   ]
  },
  {
   "cell_type": "markdown",
   "metadata": {},
   "source": [
    "And, second, 1828-1864 without Hawthorne:"
   ]
  },
  {
   "cell_type": "code",
   "execution_count": 84,
   "metadata": {},
   "outputs": [],
   "source": [
    "to_path = 'local/corpus_no_nh'"
   ]
  },
  {
   "cell_type": "code",
   "execution_count": 85,
   "metadata": {},
   "outputs": [],
   "source": [
    "nonh = sub[~sub['author'].str.contains('Hawthorne, Nathaniel', na = False)]"
   ]
  },
  {
   "cell_type": "code",
   "execution_count": 86,
   "metadata": {},
   "outputs": [],
   "source": [
    "if not os.path.exists(to_path):\n",
    "    os.mkdir(to_path)"
   ]
  },
  {
   "cell_type": "code",
   "execution_count": 87,
   "metadata": {},
   "outputs": [],
   "source": [
    "texts = nonh['filename']"
   ]
  },
  {
   "cell_type": "code",
   "execution_count": null,
   "metadata": {},
   "outputs": [],
   "source": [
    "for text in texts:\n",
    "    f_from = os.path.join(gale_path, text)\n",
    "    f_to = os.path.join(to_path, text)\n",
    "    copyfile(f_from, f_to)"
   ]
  },
  {
   "cell_type": "markdown",
   "metadata": {},
   "source": [
    "Finally, Hawthorne alone:"
   ]
  },
  {
   "cell_type": "code",
   "execution_count": 110,
   "metadata": {},
   "outputs": [],
   "source": [
    "to_path = 'local/gale_nh/'"
   ]
  },
  {
   "cell_type": "code",
   "execution_count": 111,
   "metadata": {},
   "outputs": [],
   "source": [
    "if not os.path.exists(to_path):\n",
    "    os.mkdir(to_path)"
   ]
  },
  {
   "cell_type": "code",
   "execution_count": 118,
   "metadata": {},
   "outputs": [],
   "source": [
    "nh = meta[meta['author'].str.contains('Hawthorne, Nathaniel', na = False)]"
   ]
  },
  {
   "cell_type": "code",
   "execution_count": 120,
   "metadata": {},
   "outputs": [],
   "source": [
    "texts = nh['filename']"
   ]
  },
  {
   "cell_type": "code",
   "execution_count": 122,
   "metadata": {},
   "outputs": [],
   "source": [
    "for text in texts:\n",
    "    f_from = os.path.join(gale_path, text)\n",
    "    f_to = os.path.join(to_path, text)\n",
    "    copyfile(f_from, f_to)"
   ]
  },
  {
   "cell_type": "markdown",
   "metadata": {},
   "source": [
    "Now that we have our corpora, we can begin the analyses."
   ]
  }
 ],
 "metadata": {
  "kernelspec": {
   "display_name": "Python 3",
   "language": "python",
   "name": "python3"
  },
  "language_info": {
   "codemirror_mode": {
    "name": "ipython",
    "version": 3
   },
   "file_extension": ".py",
   "mimetype": "text/x-python",
   "name": "python",
   "nbconvert_exporter": "python",
   "pygments_lexer": "ipython3",
   "version": "3.8.3"
  }
 },
 "nbformat": 4,
 "nbformat_minor": 4
}
